{
  "nbformat": 4,
  "nbformat_minor": 0,
  "metadata": {
    "colab": {
      "provenance": [],
      "authorship_tag": "ABX9TyPhid3IcEhh/DwYUjd/XJy0",
      "include_colab_link": true
    },
    "kernelspec": {
      "name": "python3",
      "display_name": "Python 3"
    },
    "language_info": {
      "name": "python"
    }
  },
  "cells": [
    {
      "cell_type": "markdown",
      "metadata": {
        "id": "view-in-github",
        "colab_type": "text"
      },
      "source": [
        "<a href=\"https://colab.research.google.com/github/ErandySV/Simulaci-n-I/blob/main/Generador_producto_medio.ipynb\" target=\"_parent\"><img src=\"https://colab.research.google.com/assets/colab-badge.svg\" alt=\"Open In Colab\"/></a>"
      ]
    },
    {
      "cell_type": "markdown",
      "source": [
        "Generador producto medio"
      ],
      "metadata": {
        "id": "K6y95Ee9g_q2"
      }
    },
    {
      "cell_type": "markdown",
      "source": [
        "El generador del producto medio es un método para generar secuencias pseudoaleatorias utilizando operaciones de multiplicación y división"
      ],
      "metadata": {
        "id": "WyYh6MrXhtYL"
      }
    },
    {
      "cell_type": "markdown",
      "source": [
        "Los pasos para este generador son los siguientes:"
      ],
      "metadata": {
        "id": "XH2XuCL-hjiB"
      }
    },
    {
      "cell_type": "markdown",
      "source": [
        "1.Seleccionar dos semillas (Xn-1 y Con cada una de p dígitos)"
      ],
      "metadata": {
        "id": "mTKRzOj-hDWc"
      }
    },
    {
      "cell_type": "markdown",
      "source": [
        "2.Multiplicamos X y Xn-1"
      ],
      "metadata": {
        "id": "CpoAQuyZhPjY"
      }
    },
    {
      "cell_type": "markdown",
      "source": [
        "3.Del producto tomamos p dígitos centrales y les llamamos Xn+1\n"
      ],
      "metadata": {
        "id": "_5uMQR2JhXra"
      }
    },
    {
      "cell_type": "markdown",
      "source": [
        "4.Repetimos 1-3"
      ],
      "metadata": {
        "id": "JJ1IW_yOhaUb"
      }
    },
    {
      "cell_type": "markdown",
      "source": [
        "Declarar las dos semillas y checar que si contengan el numero de digitos asignados"
      ],
      "metadata": {
        "id": "YH6zLR6gcpkw"
      }
    },
    {
      "cell_type": "code",
      "source": [
        "#Asignar el numero de digitos con el que queremos trabajar\n",
        "p = 4\n",
        "#Seleccionar dos semillas\n",
        "X_n1 = 1365\n",
        "Xn = 2345\n",
        "\n",
        "# Checar que ambas semillas tengan p dígitos\n",
        "if len(str(X_n1)) != p or len(str(Xn)) != p: #Se ocupa or dado que basta con que alguno de los números no tenga p digitos para que el programa no continue\n",
        "    print(\"Las semillas no son de p dígitos, favor de modiicarlas\")\n",
        "    exit()\n",
        "#Asignamos el numero de iteraciones\n",
        "    n = 5\n",
        "for _ in range(n):\n",
        "#Realizar el producto entre semillas\n",
        "    pdr = Xn * X_n1\n",
        "    X_n1 = int(str(pdr).zfill(2 * p)[p // 2: p // 2 + p])\n",
        "\n",
        "\n",
        "    print( X_n1)"
      ],
      "metadata": {
        "colab": {
          "base_uri": "https://localhost:8080/"
        },
        "id": "rDl5SG1Rc25H",
        "outputId": "e6948015-d845-453d-be7c-f06653c1fd44"
      },
      "execution_count": null,
      "outputs": [
        {
          "output_type": "stream",
          "name": "stdout",
          "text": [
            "2009\n",
            "7111\n",
            "6752\n",
            "8334\n",
            "5432\n"
          ]
        }
      ]
    },
    {
      "cell_type": "markdown",
      "source": [
        "Este método aunque es simple no suele preferirse dado que aunque genera resultados aceptables es limitado para generar secuencias pseudoaleatorias a comparación de otros métodos."
      ],
      "metadata": {
        "id": "4WwwQCc0iUCb"
      }
    }
  ]
}