{
  "nbformat": 4,
  "nbformat_minor": 0,
  "metadata": {
    "colab": {
      "provenance": [],
      "authorship_tag": "ABX9TyOtcf5aOcd2Xb/eObU2dotm",
      "include_colab_link": true
    },
    "kernelspec": {
      "name": "python3",
      "display_name": "Python 3"
    },
    "language_info": {
      "name": "python"
    }
  },
  "cells": [
    {
      "cell_type": "markdown",
      "metadata": {
        "id": "view-in-github",
        "colab_type": "text"
      },
      "source": [
        "<a href=\"https://colab.research.google.com/github/ErandySV/Simulaci-n-I/blob/main/chi_cuadrada.ipynb\" target=\"_parent\"><img src=\"https://colab.research.google.com/assets/colab-badge.svg\" alt=\"Open In Colab\"/></a>"
      ]
    },
    {
      "cell_type": "code",
      "execution_count": null,
      "metadata": {
        "id": "F9PrZmu7dB8K"
      },
      "outputs": [],
      "source": []
    },
    {
      "cell_type": "markdown",
      "source": [
        "Método Chi-Cuadrada"
      ],
      "metadata": {
        "id": "yoWJnHe_dILh"
      }
    },
    {
      "cell_type": "markdown",
      "source": [
        "Se utiliza para probar la hipótesis de que una distribución de frecuencias se ajusta (o concuerda) con alguna distribución que se asevera."
      ],
      "metadata": {
        "id": "iSN9DTLhdNyG"
      }
    },
    {
      "cell_type": "markdown",
      "source": [],
      "metadata": {
        "id": "N-wnP-fCxYt9"
      }
    },
    {
      "cell_type": "markdown",
      "source": [
        "Pasos"
      ],
      "metadata": {
        "id": "EUo_9TJwdvN4"
      }
    },
    {
      "cell_type": "markdown",
      "source": [
        "Paso 1. Formular hipótesis nula y alternativa"
      ],
      "metadata": {
        "id": "KXAsqHPcdwBf"
      }
    },
    {
      "cell_type": "markdown",
      "source": [
        "Paso 2. Nivel de significancia"
      ],
      "metadata": {
        "id": "ZgqlfK3TeaNT"
      }
    },
    {
      "cell_type": "markdown",
      "source": [
        "Paso 3. Aplicar estadístico de prueba (k-1), grado de libertad"
      ],
      "metadata": {
        "id": "cZh9xeABefjs"
      }
    },
    {
      "cell_type": "markdown",
      "source": [
        "Paso 4: Regla de decisión, requiere determinar un número que separe la región donde no sé rechaza H_o(Nula) de la región de rechazo"
      ],
      "metadata": {
        "id": "epEnoOaxejaZ"
      }
    },
    {
      "cell_type": "markdown",
      "source": [
        "Paso 5: Calcular el valor y tomar una decisión"
      ],
      "metadata": {
        "id": "YkwcY5lBenyl"
      }
    },
    {
      "cell_type": "code",
      "source": [
        "from scipy.stats import chi2\n",
        "from tabulate import tabulate\n",
        "import numpy as np\n",
        "import pandas as pd\n",
        "Valores = [0.8797, 0.3884, 0.6289, 0.875, 0.5999, 0.8589, 0.9996, 0.2415, 0.3808, 0.9606,\n",
        "           0.9848, 0.3469, 0.7977, 0.5844, 0.8147, 0.6431, 0.7387, 0.5613, 0.0318, 0.7401,\n",
        "           0.4557, 0.1592, 0.8536, 0.8846, 0.341, 0.1492, 0.8681, 0.5291, 0.3188, 0.5992,\n",
        "           0.917, 0.2204, 0.5991, 0.5461, 0.5739, 0.3254, 0.0856, 0.2258, 0.4603, 0.5027,\n",
        "           0.8376, 0.6235, 0.3681, 0.2088, 0.1525, 0.2006, 0.472, 0.4272, 0.636, 0.0954]\n",
        "\n",
        "n=len(Valores)\n",
        "\n",
        "#Numero de intervalos\n",
        "k=5\n",
        "\n",
        "#Calcular grado de libertad\n",
        "k1 = k-1\n",
        "\n",
        "#Nivel de significancia\n",
        "ns = 0.05\n",
        "\n",
        "# Contar números caen de cada intervalo\n",
        "f_0= [0]*k\n",
        "for number in Valores:\n",
        "    for i in range(k):\n",
        "        if number < (i+1)/k:\n",
        "            f_0[i] += 1\n",
        "            break\n",
        "\n",
        "#Valor crítico para un nivel de significancia del 0.05%\n",
        "Vc = chi2.ppf(1-ns,k1)\n",
        "\n",
        "# Calcular f_e (Frecuencia esperada)\n",
        "f_e = n // k\n",
        "#Resta entre f_0 y f_e\n",
        "d = np.array(f_0) - f_e\n",
        "#Elevar al cuadrado los resultados anteriores\n",
        "d_2 = d**2\n",
        "#dividir lo anterior entre la frecuencia esperada\n",
        "c1 = d_2 / f_e\n",
        "tabla_datos = pd.DataFrame({\n",
        "    'Intervalo': [f'[{i/k:.2f}, {(i+1)/k:.2f})' for i in range(k)],\n",
        "    'f_o': f_o,\n",
        "    'f_e': f_e,\n",
        "    '(f_o - f_e)': d,\n",
        "    '(f_0-f_e)^2': d_2,\n",
        "    '(f_0-f_e)^2/k' : c1\n",
        "})\n",
        "\n",
        "\n",
        "print(tabla_datos)\n",
        "#Valor de Chi-Cuadrada\n",
        "chi_cuadrada = sum(c1)\n",
        "\n",
        "print(\"Valor de Chi-Cuadrada:\", chi_cuadrada)\n",
        "print(\"Valor crítico:\", Vc)\n",
        "\n",
        "# Verificamos hipótesis\n",
        "if chi_cuadrada < Vc:\n",
        "    print(\"La hipótesis se cumple dado que\", chi_cuadrada, \"es menor que\", Vc)\n",
        "else:\n",
        "    print(\"La hipótesis se rechaza dado que\", chi_cuadrada, \"es mayor que\", Vc)"
      ],
      "metadata": {
        "colab": {
          "base_uri": "https://localhost:8080/"
        },
        "id": "w55RbCMsetep",
        "outputId": "48a6da41-0438-48a9-8130-abf9654ec333"
      },
      "execution_count": 44,
      "outputs": [
        {
          "output_type": "stream",
          "name": "stdout",
          "text": [
            "      Intervalo  f_o  f_e  (f_o - f_e)  (f_0-f_e)^2  (f_0-f_e)^2/k\n",
            "0  [0.00, 0.20)    6   10           -4           16            1.6\n",
            "1  [0.20, 0.40)   12   10            2            4            0.4\n",
            "2  [0.40, 0.60)   13   10            3            9            0.9\n",
            "3  [0.60, 0.80)    7   10           -3            9            0.9\n",
            "4  [0.80, 1.00)   12   10            2            4            0.4\n",
            "Valor de Chi-Cuadrada: 4.2\n",
            "Valor crítico: 9.487729036781154\n",
            "La hipótesis se cumple dado que 4.2 es menor que 9.487729036781154\n"
          ]
        }
      ]
    }
  ]
}