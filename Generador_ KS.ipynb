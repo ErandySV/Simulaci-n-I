{
  "nbformat": 4,
  "nbformat_minor": 0,
  "metadata": {
    "colab": {
      "provenance": [],
      "authorship_tag": "ABX9TyN6M75y7hI7l1wBfCv+obLn",
      "include_colab_link": true
    },
    "kernelspec": {
      "name": "python3",
      "display_name": "Python 3"
    },
    "language_info": {
      "name": "python"
    }
  },
  "cells": [
    {
      "cell_type": "markdown",
      "metadata": {
        "id": "view-in-github",
        "colab_type": "text"
      },
      "source": [
        "<a href=\"https://colab.research.google.com/github/ErandySV/Simulaci-n-I/blob/main/Generador_%20KS.ipynb\" target=\"_parent\"><img src=\"https://colab.research.google.com/assets/colab-badge.svg\" alt=\"Open In Colab\"/></a>"
      ]
    },
    {
      "cell_type": "code",
      "execution_count": null,
      "metadata": {
        "id": "XE_I0VBV8z9u"
      },
      "outputs": [],
      "source": []
    },
    {
      "cell_type": "markdown",
      "source": [
        "Prueba Kolmogorov-Smirnov\n"
      ],
      "metadata": {
        "id": "bd1-TvS4853L"
      }
    },
    {
      "cell_type": "markdown",
      "source": [
        "Método no paramétrico para probar si existe una diferencia significativa entre una distribución de frecuencias teórica.\n"
      ],
      "metadata": {
        "id": "0d-Qkxa48_E_"
      }
    },
    {
      "cell_type": "markdown",
      "source": [
        "Los pasos son los siguientes:\n"
      ],
      "metadata": {
        "id": "Jd27TKtH96Ct"
      }
    },
    {
      "cell_type": "markdown",
      "source": [
        "1. Ordenar de mayor a menor los números aleatorios"
      ],
      "metadata": {
        "id": "azEA1S7f98Ms"
      }
    },
    {
      "cell_type": "markdown",
      "source": [
        "2. Calcular D+, D- y D\n"
      ],
      "metadata": {
        "id": "cmbmhjAA-DMH"
      }
    },
    {
      "cell_type": "markdown",
      "source": [
        "Donde D+= max (1<i<n) |i/n -x_i|"
      ],
      "metadata": {
        "id": "JuMfqtpt-KVC"
      }
    },
    {
      "cell_type": "markdown",
      "source": [
        " D- = max (1<i<n) |x_i - (i-1)/n|"
      ],
      "metadata": {
        "id": "Y1bpLl6h-XNn"
      }
    },
    {
      "cell_type": "markdown",
      "source": [
        " D= max [D+,D-]\n"
      ],
      "metadata": {
        "id": "j7884RAN-gT9"
      }
    },
    {
      "cell_type": "markdown",
      "source": [
        "3. Comparamos con el valor critico d_a,n\n",
        "\n"
      ],
      "metadata": {
        "id": "Hguq8RXv-yxJ"
      }
    },
    {
      "cell_type": "markdown",
      "source": [
        "Se acepta si D<d_a,n"
      ],
      "metadata": {
        "id": "WAE_xZho_FiI"
      }
    },
    {
      "cell_type": "code",
      "source": [
        "from scipy.stats import ks_2samp\n",
        "\n",
        "Valores = [0.8797, 0.3884, 0.6289, 0.875, 0.5999, 0.8589, 0.9996, 0.2415, 0.3808, 0.9606,\n",
        "           0.9848, 0.3469, 0.7977, 0.5844, 0.8147, 0.6431, 0.7387, 0.5613, 0.0318, 0.7401,\n",
        "           0.4557, 0.1592, 0.8536, 0.8846, 0.341, 0.1492, 0.8681, 0.5291, 0.3188, 0.5992,\n",
        "           0.917, 0.2204, 0.5991, 0.5461, 0.5739, 0.3254, 0.0856, 0.2258, 0.4603, 0.5027,\n",
        "           0.8376, 0.6235, 0.3681, 0.2088, 0.1525, 0.2006, 0.472, 0.4272, 0.636, 0.0954]\n",
        "\n",
        "# Ordenar valores\n",
        "Ordenados = sorted(Valores)\n",
        "\n",
        "# Calcular D+, D- y D\n",
        "n = len(Valores)\n",
        "D_mas = max((i+1)/n - Ordenados[i] for i in range(n))\n",
        "D_menos = max(Ordenados[i] - i/n for i in range(n))\n",
        "D = max(D_mas, D_menos)\n",
        "print(\"D+: \", D_mas)\n",
        "print(\"D-: \", D_menos)\n",
        "print(\"El valor máximo entre D+ y D- es D:\", D)\n",
        "\n",
        "# Implementamos tabla\n",
        "tabla = {0.05: {10: 0.2216, 20: 0.192, 30: 0.158, 40: 0.1386, 50: 0.1246}}\n",
        "\n",
        "# Obten\n",
        "valor_critico = tabla[0.05][50]\n",
        "print(\"Valor crítico:\", valor_critico)\n",
        "\n",
        "# Comparar\n",
        "if D < valor_critico:\n",
        "    print(\"Se acepta la hipótesis nula \")\n",
        "else:\n",
        "    print(\"Se rechaza la hipótesis nula\")"
      ],
      "metadata": {
        "colab": {
          "base_uri": "https://localhost:8080/"
        },
        "id": "P_F12NnvGhST",
        "outputId": "c7220b98-0e93-48c6-9a27-03a2a48e92c9"
      },
      "execution_count": null,
      "outputs": [
        {
          "output_type": "stream",
          "name": "stdout",
          "text": [
            "D+:  0.05689999999999995\n",
            "D-:  0.09879999999999997\n",
            "El valor máximo entre D+ y D- es D: 0.09879999999999997\n",
            "Valor crítico: 0.1246\n",
            "Se acepta la hipótesis nula \n"
          ]
        }
      ]
    },
    {
      "cell_type": "markdown",
      "source": [
        "En conclusión el método de Kolmogorov-Smirnov es importante para evaluar la bondad de ajuste de una muestra a una distribución teórica y proporciona información relevante sobre los datos mostrados. Sin embargo, es importante interpretar los resultados con precaución y tener en cuenta sus limitaciones."
      ],
      "metadata": {
        "id": "X0GbVH9D_Ilt"
      }
    }
  ]
}