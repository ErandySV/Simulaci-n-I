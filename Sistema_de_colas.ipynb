{
  "nbformat": 4,
  "nbformat_minor": 0,
  "metadata": {
    "colab": {
      "provenance": [],
      "authorship_tag": "ABX9TyOliIjXA1Fq9LrxTfGTTGRh",
      "include_colab_link": true
    },
    "kernelspec": {
      "name": "python3",
      "display_name": "Python 3"
    },
    "language_info": {
      "name": "python"
    }
  },
  "cells": [
    {
      "cell_type": "markdown",
      "metadata": {
        "id": "view-in-github",
        "colab_type": "text"
      },
      "source": [
        "<a href=\"https://colab.research.google.com/github/ErandySV/Simulaci-n-I/blob/main/Sistema_de_colas.ipynb\" target=\"_parent\"><img src=\"https://colab.research.google.com/assets/colab-badge.svg\" alt=\"Open In Colab\"/></a>"
      ]
    },
    {
      "cell_type": "markdown",
      "source": [
        "Sistema de colas"
      ],
      "metadata": {
        "id": "AKHrjGB5lgWD"
      }
    },
    {
      "cell_type": "markdown",
      "source": [
        "\n",
        "Se tiene un sistema de colas formado por dos estaciones en serie, los clientes atendidos en la primera estación pasan enseguida a formar cola en la segunda en la primera estación de servicio la razón de llegadas sigue una distribución de poisson con media de $20$ clientes por hora y el tiempo de servicios sigue distribución exponencial con media de $2$ minutos por persona en la segunda estación el tiempo de servicio está uniformemente distribuido entre 1 y 2 minutos para esta información\n",
        "¿Cuál es el tiempo promedio en el sistema y cuál de las dos colas que se forman es mayor?"
      ],
      "metadata": {
        "id": "jCIN_DOflBSA"
      }
    },
    {
      "cell_type": "markdown",
      "source": [
        "Solucion analitica"
      ],
      "metadata": {
        "id": "lRd7o0Btyicg"
      }
    },
    {
      "cell_type": "markdown",
      "source": [
        "Para resolver este problema de colas en serie, vamos a analizar cada estación de servicio por separado.\n",
        "\n",
        "**Estación 1**\n",
        "\n",
        "*   Tasa de llegadas   λ: 20 clientes por hora.\n",
        "*   Tiempo de servicio: Distribución exponencial con media de 2 minutos por cliente.\n",
        "\n",
        "\n",
        "Para convertir la media de servicio a horas:\n",
        "\n",
        "Media del tiempo de servicio = $\\frac{2}{60} = \\frac{1}{30}$ horas por cliente\n",
        "\n",
        "La tasa de servicio $(mu_1)$ es el inverso del tiempo de servicio medio:\n",
        "$ \\mu_1 = \\frac{1}{\\frac{1}{30}} = 30 \\text{ clientes por hora} $\n",
        "\n",
        "Tiempo promedio en la primera estación\n",
        "Para un sistema \\(M/M/1\\), el tiempo promedio en el sistema \\(W\\) es:\n",
        "$ W_1 = \\frac{1}{\\mu_1 - \\lambda} = \\frac{1}{30 - 20} = \\frac{1}{10} \\text{ horas}  \\\\\n",
        "W_1 = \\frac{1}{10} \\times 60 = 6 \\text{ minutos}$\n",
        "\n",
        "**Estación 2**\n",
        "\n",
        "*   Tasa de llegadas   λ = 20 clientes por hora\n",
        "*   Tiempo de servicio:  Uniformemente distribuido entre 1 y 2 minutos.\n",
        "\n",
        "El tiempo de servicio medio $mu_2$ para una distribución uniforme $[a, b]$ se calcula como:\n",
        "\n",
        "Media del tiempo de servicio = $\\frac{a + b}{2} = \\frac{1 + 2}{2} = 1.5  minutos $\n",
        "\n",
        "Convertimos a horas:\n",
        "Media del tiempo de servicio= $\\frac{1.5}{60} = \\frac{1}{40}horas por cliente$\n",
        "\n",
        "La tasa de servicio es:\n",
        "$\\mu_2 = \\frac{1}{\\frac{1}{40}} = 40  clientes por hora$\n",
        "\n",
        "Tiempo promedio en la segunda estación\n",
        "\n",
        "Para un sistema \\(M/G/1\\), el tiempo promedio en el sistema \\(W\\) es:\n",
        "$ W_2 = \\frac{1}{\\mu_2 - \\lambda} = \\frac{1}{40 - 20} = \\frac{1}{20} horas$\n",
        "$ W_2 = \\frac{1}{20} \\times 60 = 3 \\text{ minutos} $\n",
        "\n",
        "**Tiempo promedio total en el sistema**\n",
        "\n",
        "Sumamos los tiempos promedio en ambas estaciones:\n",
        "$ W = W_1 + W_2 = 6 \\text{ minutos} + 3 \\text{ minutos} = 9 \\text{ minutos}$\n",
        "\n",
        "**Tamaño promedio de las colas **\n",
        "\n",
        "Para calcular el tamaño promedio de las colas en cada estación, usamos la fórmula $L_q = \\lambda W_q$, donde $W_q$ es el tiempo promedio de espera en la cola (sin incluir el servicio).\n",
        "\n",
        "Para la estación 1 (usando \\(M/M/1\\)):\n",
        "\n",
        "$ W_{q1} = \\frac{\\lambda}{\\mu_1 (\\mu_1 - \\lambda)} = \\frac{20}{30(30 - 20)} = \\frac{20}{300} = \\frac{1}{15} \\text{ horas} $\n",
        "\n",
        "$ W_{q1} = \\frac{1}{15} \\times 60 = 4 \\text{ minutos} $\n",
        "\n",
        "$ L_{q1} = \\lambda W_{q1} = 20 \\times \\frac{1}{15} = \\frac{20}{15} = 1.33  clientes$\n",
        "\n",
        "Para la estación 2 (usando \\(M/G/1\\)):\n",
        "\n",
        "$ W_{q2} = \\frac{\\lambda \\sigma_s^2}{2(1 - \\rho)} = \\frac{20 \\times \\left(\\frac{1}{12}\\right)^2}{2(1 - 0.5)} = \\frac{20 \\times \\frac{1}{144}}{2 \\times 0.5} = \\frac{20}{288} = \\frac{5}{72}  horas $\n",
        "$ W_{q2} = \\frac{5}{72} \\times 60 = \\frac{25}{6} \\text{ minutos} = 4.17 \\text{ minutos} $\n",
        "$ L_{q2} = \\lambda W_{q2} = 20 \\times \\frac{5}{72} = \\frac{100}{72} = 1.39 \\text{ clientes}$\n",
        "\n",
        "Por lo tanto:\n",
        "    \n",
        "       Tiempo promedio en el sistema: 9 minutos.\n",
        "       Tamaño promedio de las colas:\n",
        "                    Estación 1: 1.33 clientes.\n",
        "\n",
        "                    Estación 2: 1.39 clientes.\n",
        "\n",
        "La cola en la segunda estación es ligeramente mayor que en la primera estación.\n",
        "\n"
      ],
      "metadata": {
        "id": "Ii-dR7B3udzE"
      }
    },
    {
      "cell_type": "code",
      "source": [
        "#Importamos librerias\n",
        "import random as rnd\n",
        "import pandas as pd"
      ],
      "metadata": {
        "id": "yHBHBPr5V5L0"
      },
      "execution_count": null,
      "outputs": []
    },
    {
      "cell_type": "code",
      "source": [
        "# Función para generar tiempo exponencial\n",
        "def generar_tiempo_exponencial(tasa):\n",
        "    return rnd.expovariate(tasa)"
      ],
      "metadata": {
        "id": "KxnS95BYV9ZW"
      },
      "execution_count": null,
      "outputs": []
    },
    {
      "cell_type": "code",
      "source": [
        "# Función para generar tiempo uniforme\n",
        "def generar_tiempo_uniforme(minimo, maximo):\n",
        "    return rnd.uniform(minimo, maximo)"
      ],
      "metadata": {
        "id": "LkXgmN2nWAJx"
      },
      "execution_count": null,
      "outputs": []
    },
    {
      "cell_type": "markdown",
      "source": [
        " **Generar clientes:**\n",
        " * Se generan clientes a una tasa de llegada de 20 clientes por hora.\n",
        " * El tiempo entre llegadas de clientes se genera utilizando la distribución exponencial con media de 2 minutos.\n",
        "\n",
        " ** Atender a los clientes en la primera estación:**\n",
        " * Cuando un cliente llega a la primera estación, se verifica si el servidor está desocupado.\n",
        " * Si el servidor está desocupado, el cliente es atendido de inmediato.\n",
        " * El tiempo de servicio se genera utilizando la distribución exponencial con media de 2 minutos.\n",
        " * Si el servidor está ocupado, el cliente se coloca en la cola de la primera estación.\n",
        " **Atender a los clientes en la segunda estación:**\n",
        " * Cuando un cliente termina de ser atendido en la primera estación, pasa a la segunda estación.\n",
        " * Se verifica si el servidor de la segunda estación está desocupado.\n",
        " * Si el servidor de la segunda estación está desocupado, el cliente es atendido de inmediato.\n",
        " * El tiempo de servicio se genera utilizando la distribución uniforme entre 1 y 2 minutos.\n",
        " * Si el servidor de la segunda estación está ocupado, el cliente se coloca en la cola de la segunda estación."
      ],
      "metadata": {
        "id": "EiBhAad6XjY8"
      }
    },
    {
      "cell_type": "code",
      "source": [
        "# Simulación de las colas\n",
        "def simulacion_colas_dos_estaciones(num_clientes, tasa_llegadas, mu1, min_servicio_est2, max_servicio_est2):\n",
        "    tiempo = 0\n",
        "    clientes_en_cola_1 = 0\n",
        "    clientes_en_cola_2 = 0\n",
        "    tiempo_total = []\n",
        "    llegada_clientes = []\n",
        "    inicio_servicio_1 = []\n",
        "    fin_servicio_1 = []\n",
        "    inicio_servicio_2 = []\n",
        "    fin_servicio_2 = []\n",
        "\n",
        "    for i in range(num_clientes):\n",
        "        tiempo_entre_llegadas = generar_tiempo_exponencial(tasa_llegadas)\n",
        "        tiempo += tiempo_entre_llegadas\n",
        "        llegada_clientes.append(tiempo)\n",
        "\n",
        "        if clientes_en_cola_1 == 0:\n",
        "            inicio_1 = tiempo\n",
        "            tiempo_servicio_1 = generar_tiempo_exponencial(mu1)\n",
        "            fin_1 = inicio_1 + tiempo_servicio_1\n",
        "            tiempo = fin_1\n",
        "        else:\n",
        "            inicio_1 = max(tiempo, fin_servicio_1[-1])\n",
        "            tiempo_servicio_1 = generar_tiempo_exponencial(mu1)\n",
        "            fin_1 = inicio_1 + tiempo_servicio_1\n",
        "            tiempo = fin_1\n",
        "            clientes_en_cola_1 -= 1\n",
        "\n",
        "        inicio_servicio_1.append(inicio_1)\n",
        "        fin_servicio_1.append(fin_1)\n",
        "\n",
        "        if clientes_en_cola_2 == 0:\n",
        "            inicio_2 = fin_1\n",
        "            tiempo_servicio_2 = generar_tiempo_uniforme(min_servicio_est2, max_servicio_est2)\n",
        "            fin_2 = inicio_2 + tiempo_servicio_2\n",
        "            tiempo = fin_2\n",
        "        else:\n",
        "            inicio_2 = max(fin_1, fin_servicio_2[-1])\n",
        "            tiempo_servicio_2 = generar_tiempo_uniforme(min_servicio_est2, max_servicio_est2)\n",
        "            fin_2 = inicio_2 + tiempo_servicio_2\n",
        "            tiempo = fin_2\n",
        "            clientes_en_cola_2 -= 1\n",
        "\n",
        "        inicio_servicio_2.append(inicio_2)\n",
        "        fin_servicio_2.append(fin_2)\n",
        "        tiempo_total.append(fin_2 - llegada_clientes[-1])\n",
        "\n",
        "    data = {\n",
        "        'Cliente': list(range(1, num_clientes + 1)),\n",
        "        'Llegada (min)': [t * 60 for t in llegada_clientes],\n",
        "        'Inicio Servicio Est1 (min)': [t * 60 for t in inicio_servicio_1],\n",
        "        'Fin Servicio Est1 (min)': [t * 60 for t in fin_servicio_1],\n",
        "        'Inicio Servicio Est2 (min)': [t * 60 for t in inicio_servicio_2],\n",
        "        'Fin Servicio Est2 (min)': [t * 60 for t in fin_servicio_2],\n",
        "        'Tiempo en el Sistema (min)': [t * 60 for t in tiempo_total]\n",
        "    }\n",
        "    df = pd.DataFrame(data)\n",
        "    print(df)\n",
        "\n",
        "    tiempo_promedio_sistema = sum(tiempo_total) / num_clientes\n",
        "    longitud_promedio_cola_1 = sum(max(0, inicio_servicio_1[i + 1] - fin_servicio_1[i]) for i in range(num_clientes - 1)) / num_clientes\n",
        "    longitud_promedio_cola_2 = sum(max(0, inicio_servicio_2[i + 1] - fin_servicio_2[i]) for i in range(num_clientes - 1)) / num_clientes\n",
        "\n",
        "    return {\n",
        "        'tiempo_promedio_sistema': tiempo_promedio_sistema,\n",
        "        'longitud_promedio_cola_1': longitud_promedio_cola_1,\n",
        "        'longitud_promedio_cola_2': longitud_promedio_cola_2,\n",
        "        'tabla_resultados': df\n",
        "    }\n"
      ],
      "metadata": {
        "id": "AJTBKINXWDIt"
      },
      "execution_count": null,
      "outputs": []
    },
    {
      "cell_type": "markdown",
      "source": [],
      "metadata": {
        "id": "jgYL1u5DXRqp"
      }
    },
    {
      "cell_type": "code",
      "source": [
        "# Cálculo analitico para la comparación con simulación\n",
        "def calculo_analitico(llegadas_est1, media_servicio_est1, media_servicio_est2):\n",
        "    # Tasa de servicio\n",
        "    tasa_servicio_est1 = 1 / media_servicio_est1\n",
        "    tasa_servicio_est2 = 1 / media_servicio_est2\n",
        "\n",
        "    # Utilización\n",
        "    rho1 = llegadas_est1 / tasa_servicio_est1\n",
        "    rho2 = llegadas_est1 / tasa_servicio_est2  # Igual a la tasa de llegada de la segunda estación\n",
        "\n",
        "    # Tiempo promedio en el sistema\n",
        "    W1 = 1 / (tasa_servicio_est1 - llegadas_est1)\n",
        "    W2 = 1 / (tasa_servicio_est2 - llegadas_est1)\n",
        "\n",
        "    # Convertir a minutos\n",
        "    W1_min = W1 * 60\n",
        "    W2_min = W2 * 60\n",
        "    W_total = W1_min + W2_min\n",
        "\n",
        "    # Tiempo promedio de espera en la cola (sin incluir el servicio)\n",
        "    Wq1 = W1 - media_servicio_est1\n",
        "    Wq2 = (llegadas_est1 ** 2 * ((1 / 60) ** 2 / 12) + (llegadas_est1 / tasa_servicio_est2) ** 2) / (2 * (1 - rho2))\n",
        "\n",
        "    # Tamaño promedio de la cola\n",
        "    Lq1 = llegadas_est1 * Wq1\n",
        "    Lq2 = llegadas_est1 * Wq2\n",
        "\n",
        "    return {\n",
        "        'W1_min': W1_min,\n",
        "        'W2_min': W2_min,\n",
        "        'W_total': W_total,\n",
        "        'Lq1': Lq1,\n",
        "        'Lq2': Lq2\n",
        "    }\n"
      ],
      "metadata": {
        "id": "PmskKfFhWN3t"
      },
      "execution_count": null,
      "outputs": []
    },
    {
      "cell_type": "markdown",
      "source": [
        " Definir los parámetros:\n",
        " * Tasa de llegada de clientes (λ): 20 clientes por hora\n",
        " * Tiempo medio de servicio en la primera estación (μ1): 2 minutos por persona\n",
        " * Tiempo medio de servicio en la segunda estación (μ2): 1.5 minutos por persona\n",
        " * Número de servidores en la primera estación (c1): 1\n",
        " * Número de servidores en la segunda estación (c2): 1"
      ],
      "metadata": {
        "id": "iqmHowqVYA54"
      }
    },
    {
      "cell_type": "code",
      "source": [
        "\n",
        "num_clientes = 1000\n",
        "llegadas_est1 = 20  # clientes por hora\n",
        "media_servicio_est1 = 2 / 60  # horas\n",
        "media_servicio_est2 = 1.5 / 60  # horas\n",
        "min_servicio_est2 = 1 / 60  # horas\n",
        "max_servicio_est2 = 2 / 60  # horas"
      ],
      "metadata": {
        "id": "czlBBzKnWXQg"
      },
      "execution_count": 39,
      "outputs": []
    },
    {
      "cell_type": "code",
      "source": [
        "\n",
        "\n",
        "# Ejecutar la simulación\n",
        "resultados_simulacion = simulacion_colas_dos_estaciones(num_clientes, llegadas_est1 / 60, 1 / media_servicio_est1, min_servicio_est2, max_servicio_est2)\n",
        "\n",
        "# Calcular resultados analíticos\n",
        "resultados_analiticos = calculo_analitico(llegadas_est1, media_servicio_est1, media_servicio_est2)"
      ],
      "metadata": {
        "colab": {
          "base_uri": "https://localhost:8080/"
        },
        "id": "aX7eqW3hWb8U",
        "outputId": "eecf36f3-ce49-44b0-ff73-9d8c463cb388"
      },
      "execution_count": 41,
      "outputs": [
        {
          "output_type": "stream",
          "name": "stdout",
          "text": [
            "     Cliente  Llegada (min)  Inicio Servicio Est1 (min)  \\\n",
            "0          1     597.914863                  597.914863   \n",
            "1          2     676.875794                  676.875794   \n",
            "2          3     915.816958                  915.816958   \n",
            "3          4    1483.359127                 1483.359127   \n",
            "4          5    1697.638793                 1697.638793   \n",
            "..       ...            ...                         ...   \n",
            "995      996  174367.658158               174367.658158   \n",
            "996      997  174545.969040               174545.969040   \n",
            "997      998  174752.972804               174752.972804   \n",
            "998      999  174814.731662               174814.731662   \n",
            "999     1000  174857.766616               174857.766616   \n",
            "\n",
            "     Fin Servicio Est1 (min)  Inicio Servicio Est2 (min)  \\\n",
            "0                 598.283616                  598.283616   \n",
            "1                 680.252773                  680.252773   \n",
            "2                 917.468238                  917.468238   \n",
            "3                1484.595473                 1484.595473   \n",
            "4                1703.080321                 1703.080321   \n",
            "..                       ...                         ...   \n",
            "995            174370.823571               174370.823571   \n",
            "996            174546.761554               174546.761554   \n",
            "997            174753.623166               174753.623166   \n",
            "998            174816.554978               174816.554978   \n",
            "999            174861.897648               174861.897648   \n",
            "\n",
            "     Fin Servicio Est2 (min)  Tiempo en el Sistema (min)  \n",
            "0                 599.805802                    1.890939  \n",
            "1                 681.281670                    4.405876  \n",
            "2                 918.541842                    2.724884  \n",
            "3                1485.803629                    2.444503  \n",
            "4                1704.752561                    7.113768  \n",
            "..                       ...                         ...  \n",
            "995            174372.412104                    4.753946  \n",
            "996            174548.089801                    2.120760  \n",
            "997            174755.364942                    2.392138  \n",
            "998            174818.529156                    3.797494  \n",
            "999            174863.451179                    5.684563  \n",
            "\n",
            "[1000 rows x 7 columns]\n"
          ]
        }
      ]
    },
    {
      "cell_type": "markdown",
      "source": [
        " Analisi de  los resultados:\n",
        " * Se calcula el tiempo promedio que un cliente pasa en el sistema.\n",
        " * Se calcula la longitud promedio de la cola en cada estación."
      ],
      "metadata": {
        "id": "2xW0Xzb2Ye0D"
      }
    },
    {
      "cell_type": "code",
      "source": [
        "# Mostrar resultados de la simulación\n",
        "print(\"Resultados de la Simulación:\")\n",
        "print(f\"Tiempo promedio en el sistema: {resultados_simulacion['tiempo_promedio_sistema'] * 60:.2f} minutos\")\n",
        "print(f\"Longitud promedio de la cola en la primera estación: {resultados_simulacion['longitud_promedio_cola_1']:.2f} clientes\")\n",
        "print(f\"Longitud promedio de la cola en la segunda estación: {resultados_simulacion['longitud_promedio_cola_2']:.2f} clientes\")\n",
        "\n",
        "# Mostrar resultados analíticos\n",
        "print(\"\\nResultados Analíticos:\")\n",
        "print(f\"Tiempo promedio en el sistema: {resultados_analiticos['W_total']:.2f} minutos\")\n",
        "print(f\"Tamaño promedio de la cola en la primera estación: {resultados_analiticos['Lq1']:.2f} clientes\")\n",
        "print(f\"Tamaño promedio de la cola en la segunda estación: {resultados_analiticos['Lq2']:.2f} clientes\")\n",
        "\n",
        "# Comparación\n",
        "if resultados_analiticos['Lq1'] > resultados_analiticos['Lq2']:\n",
        "    print(\"\\nLa cola en la primera estación es mayor que en la segunda estación.\")\n",
        "else:\n",
        "    print(\"\\nLa cola en la segunda estación es mayor que en la primera estación.\")\n"
      ],
      "metadata": {
        "colab": {
          "base_uri": "https://localhost:8080/"
        },
        "id": "7_e4OWpzVqag",
        "outputId": "2dad74ee-fb23-4e11-fa99-1a5287b0065e"
      },
      "execution_count": 42,
      "outputs": [
        {
          "output_type": "stream",
          "name": "stdout",
          "text": [
            "Resultados de la Simulación:\n",
            "Tiempo promedio en el sistema: 3.48 minutos\n",
            "Longitud promedio de la cola en la primera estación: 2.87 clientes\n",
            "Longitud promedio de la cola en la segunda estación: 2.88 clientes\n",
            "\n",
            "Resultados Analíticos:\n",
            "Tiempo promedio en el sistema: 9.00 minutos\n",
            "Tamaño promedio de la cola en la primera estación: 1.33 clientes\n",
            "Tamaño promedio de la cola en la segunda estación: 5.19 clientes\n",
            "\n",
            "La cola en la segunda estación es mayor que en la primera estación.\n"
          ]
        }
      ]
    },
    {
      "cell_type": "markdown",
      "source": [],
      "metadata": {
        "id": "CjD1_ba2Y5Ta"
      }
    }
  ]
}