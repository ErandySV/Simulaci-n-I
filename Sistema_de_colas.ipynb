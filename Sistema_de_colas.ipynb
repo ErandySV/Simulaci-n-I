{
  "nbformat": 4,
  "nbformat_minor": 0,
  "metadata": {
    "colab": {
      "provenance": [],
      "authorship_tag": "ABX9TyN/+gdHuqqN97wwoLrj62pt",
      "include_colab_link": true
    },
    "kernelspec": {
      "name": "python3",
      "display_name": "Python 3"
    },
    "language_info": {
      "name": "python"
    }
  },
  "cells": [
    {
      "cell_type": "markdown",
      "metadata": {
        "id": "view-in-github",
        "colab_type": "text"
      },
      "source": [
        "<a href=\"https://colab.research.google.com/github/ErandySV/Simulaci-n-I/blob/main/Sistema_de_colas.ipynb\" target=\"_parent\"><img src=\"https://colab.research.google.com/assets/colab-badge.svg\" alt=\"Open In Colab\"/></a>"
      ]
    },
    {
      "cell_type": "markdown",
      "source": [
        "Sistema de colas"
      ],
      "metadata": {
        "id": "AKHrjGB5lgWD"
      }
    },
    {
      "cell_type": "markdown",
      "source": [
        "\n",
        "Se tiene un sistema de colas formado por dos estaciones en serie, los clientes atendidos en la primera estación pasan enseguida a formar cola en la segunda en la primera estación de servicio la razón de llegadas sigue una distribución de poisson con media de $20$ clientes por hora y el tiempo de servicios sigue distribución exponencial con media de $2$ minutos por persona en la segunda estación el tiempo de servicio está uniformemente distribuido entre 1 y 2 minutos para esta información\n",
        "¿Cuál es el tiempo promedio en el sistema y cuál de las dos colas que se forman es mayor?"
      ],
      "metadata": {
        "id": "jCIN_DOflBSA"
      }
    },
    {
      "cell_type": "markdown",
      "source": [
        "Solucion analitica"
      ],
      "metadata": {
        "id": "lRd7o0Btyicg"
      }
    },
    {
      "cell_type": "markdown",
      "source": [
        "Para resolver este problema de colas en serie, vamos a analizar cada estación de servicio por separado.\n",
        "\n",
        "**Estación 1**\n",
        "\n",
        "*   Tasa de llegadas   λ: 20 clientes por hora.\n",
        "*   Tiempo de servicio: Distribución exponencial con media de 2 minutos por cliente.\n",
        "\n",
        "\n",
        "Para convertir la media de servicio a horas:\n",
        "\n",
        "Media del tiempo de servicio = $\\frac{2}{60} = \\frac{1}{30}$ horas por cliente\n",
        "\n",
        "La tasa de servicio $(mu_1)$ es el inverso del tiempo de servicio medio:\n",
        "$ \\mu_1 = \\frac{1}{\\frac{1}{30}} = 30 \\text{ clientes por hora} $\n",
        "\n",
        "Tiempo promedio en la primera estación\n",
        "Para un sistema \\(M/M/1\\), el tiempo promedio en el sistema \\(W\\) es:\n",
        "$ W_1 = \\frac{1}{\\mu_1 - \\lambda} = \\frac{1}{30 - 20} = \\frac{1}{10} \\text{ horas}  \\\\\n",
        "W_1 = \\frac{1}{10} \\times 60 = 6 \\text{ minutos}$\n",
        "\n",
        "**Estación 2**\n",
        "\n",
        "*   Tasa de llegadas   λ = 20 clientes por hora\n",
        "*   Tiempo de servicio:  Uniformemente distribuido entre 1 y 2 minutos.\n",
        "\n",
        "El tiempo de servicio medio $mu_2$ para una distribución uniforme $[a, b]$ se calcula como:\n",
        "\n",
        "Media del tiempo de servicio = $\\frac{a + b}{2} = \\frac{1 + 2}{2} = 1.5  minutos $\n",
        "\n",
        "Convertimos a horas:\n",
        "Media del tiempo de servicio= $\\frac{1.5}{60} = \\frac{1}{40}horas por cliente$\n",
        "\n",
        "La tasa de servicio es:\n",
        "$\\mu_2 = \\frac{1}{\\frac{1}{40}} = 40  clientes por hora$\n",
        "\n",
        "Tiempo promedio en la segunda estación\n",
        "\n",
        "Para un sistema \\(M/G/1\\), el tiempo promedio en el sistema \\(W\\) es:\n",
        "$ W_2 = \\frac{1}{\\mu_2 - \\lambda} = \\frac{1}{40 - 20} = \\frac{1}{20} horas$\n",
        "$ W_2 = \\frac{1}{20} \\times 60 = 3 \\text{ minutos} $\n",
        "\n",
        "**Tiempo promedio total en el sistema**\n",
        "\n",
        "Sumamos los tiempos promedio en ambas estaciones:\n",
        "$ W = W_1 + W_2 = 6 \\text{ minutos} + 3 \\text{ minutos} = 9 \\text{ minutos}$\n",
        "\n",
        "**Tamaño promedio de las colas **\n",
        "\n",
        "Para calcular el tamaño promedio de las colas en cada estación, usamos la fórmula $L_q = \\lambda W_q$, donde $W_q$ es el tiempo promedio de espera en la cola (sin incluir el servicio).\n",
        "\n",
        "Para la estación 1 (usando \\(M/M/1\\)):\n",
        "\n",
        "$ W_{q1} = \\frac{\\lambda}{\\mu_1 (\\mu_1 - \\lambda)} = \\frac{20}{30(30 - 20)} = \\frac{20}{300} = \\frac{1}{15} \\text{ horas} $\n",
        "\n",
        "$ W_{q1} = \\frac{1}{15} \\times 60 = 4 \\text{ minutos} $\n",
        "\n",
        "$ L_{q1} = \\lambda W_{q1} = 20 \\times \\frac{1}{15} = \\frac{20}{15} = 1.33  clientes$\n",
        "\n",
        "Para la estación 2 (usando \\(M/G/1\\)):\n",
        "\n",
        "$ W_{q2} = \\frac{\\lambda \\sigma_s^2}{2(1 - \\rho)} = \\frac{20 \\times \\left(\\frac{1}{12}\\right)^2}{2(1 - 0.5)} = \\frac{20 \\times \\frac{1}{144}}{2 \\times 0.5} = \\frac{20}{288} = \\frac{5}{72}  horas $\n",
        "$ W_{q2} = \\frac{5}{72} \\times 60 = \\frac{25}{6} \\text{ minutos} = 4.17 \\text{ minutos} $\n",
        "$ L_{q2} = \\lambda W_{q2} = 20 \\times \\frac{5}{72} = \\frac{100}{72} = 1.39 \\text{ clientes}$\n",
        "\n",
        "Por lo tanto:\n",
        "    \n",
        "       Tiempo promedio en el sistema: 9 minutos.\n",
        "       Tamaño promedio de las colas:\n",
        "                    Estación 1: 1.33 clientes.\n",
        "\n",
        "                    Estación 2: 1.39 clientes.\n",
        "\n",
        "La cola en la segunda estación es ligeramente mayor que en la primera estación.\n",
        "\n"
      ],
      "metadata": {
        "id": "Ii-dR7B3udzE"
      }
    },
    {
      "cell_type": "code",
      "source": [
        "import random as rnd\n",
        "import math"
      ],
      "metadata": {
        "id": "uUr-cTQ5mAXp"
      },
      "execution_count": null,
      "outputs": []
    },
    {
      "cell_type": "code",
      "source": [
        "# Parámetros de la primera estación\n",
        "llegadas_est1 = 20  # tasa de llegadas en clientes por hora\n",
        "media_servicio_est1 = 2 / 60  # media del tiempo de servicio en horas\n",
        "\n",
        "# Parámetros de la segunda estación\n",
        "llegadas_est2 = llegadas_est1  # tasa de llegadas igual a la tasa de salida de la primera estación\n",
        "media_servicio_est2 = 1.5 / 60  # media del tiempo de servicio en horas\n",
        "var_servicio_est2 = (1 / 60) ** 2 / 12  # varianza para distribución uniforme entre 1 y 2 minutos\n",
        "\n",
        "# Cálculo de la tasa de servicio\n",
        "tasa_servicio_est1 = 1 / media_servicio_est1  # 30 clientes por hora\n",
        "tasa_servicio_est2 = 1 / media_servicio_est2  # 40 clientes por hora\n",
        "\n",
        "# Utilización\n",
        "rho1 = llegadas_est1 / tasa_servicio_est1  # 0.6667\n",
        "rho2 = llegadas_est2 / tasa_servicio_est2  # 0.5\n",
        "\n",
        "# Tiempo promedio en el sistema\n",
        "W1 = 1 / (tasa_servicio_est1 - llegadas_est1)  # horas\n",
        "W2 = 1 / (tasa_servicio_est2 - llegadas_est2)  # horas\n",
        "\n",
        "# Convertir a minutos\n",
        "W1_min = W1 * 60\n",
        "W2_min = W2 * 60\n",
        "W_total = W1_min + W2_min\n",
        "\n",
        "# Tiempo promedio de espera en la cola (sin incluir el servicio)\n",
        "Wq1 = W1 - media_servicio_est1  # M/M/1\n",
        "Wq2 = (llegadas_est2 ** 2 * var_servicio_est2 + (llegadas_est2 / tasa_servicio_est2) ** 2) / (2 * (1 - rho2))  # M/G/1\n",
        "\n",
        "# Tamaño promedio de la cola\n",
        "Lq1 = llegadas_est1 * Wq1  # clientes\n",
        "Lq2 = llegadas_est2 * Wq2  # clientes\n",
        "if Lq1 > Lq2:\n",
        "   print(\"La cola en la primera estación es mayor que en la segunda estación.\")\n",
        "else:\n",
        "   print(\"La cola en la segunda estación es mayor que en la primera estación.\")\n",
        "# Resultados\n",
        "print(f\"Tiempo promedio en el sistema: {W_total:.2f} minutos\")"
      ],
      "metadata": {
        "colab": {
          "base_uri": "https://localhost:8080/"
        },
        "id": "8lG0v46gzenY",
        "outputId": "1cb06a43-2cbc-4b59-82f5-2e35840b2993"
      },
      "execution_count": 27,
      "outputs": [
        {
          "output_type": "stream",
          "name": "stdout",
          "text": [
            "La cola en la segunda estación es mayor que en la primera estación.\n",
            "Tiempo promedio en el sistema: 9.00 minutos\n"
          ]
        }
      ]
    },
    {
      "cell_type": "code",
      "source": [
        "import matplotlib.pyplot as plt\n",
        "\n",
        "# Datos\n",
        "tiempo_promedio_est1 = 6  # minutos, calculado previamente\n",
        "tiempo_promedio_est2 = 3  # minutos, calculado previamente\n",
        "tamano_promedio_cola_est1 = 1.33  # clientes, calculado previamente\n",
        "tamano_promedio_cola_est2 = 1.39  # clientes, calculado previamente\n",
        "\n",
        "# Nombres de las barras\n",
        "nombres = ['Tiempo en Est. 1', 'Tiempo en Est. 2', 'Cola Est. 1', 'Cola Est. 2']\n",
        "\n",
        "# Valores\n",
        "valores = [tiempo_promedio_est1, tiempo_promedio_est2, tamano_promedio_cola_est1, tamano_promedio_cola_est2]\n",
        "\n",
        "# Crear el histograma\n",
        "plt.figure(figsize=(10, 6))\n",
        "barras = plt.bar(nombres, valores, color=['blue', 'blue', 'orange', 'orange'])\n",
        "\n",
        "# Añadir etiquetas\n",
        "plt.xlabel('Métricas')\n",
        "plt.ylabel('Valores')\n",
        "plt.title('Histograma de Tiempo Promedio y Tamaño Promedio de las Colas')\n",
        "plt.ylim(0, max(valores) + 1)\n",
        "\n",
        "# Mostrar los valores sobre las barras\n",
        "for barra in barras:\n",
        "    yval = barra.get_height()\n",
        "    plt.text(barra.get_x() + barra.get_width()/2, yval, round(yval, 2), ha='center', va='bottom')\n",
        "\n",
        "# Mostrar el histograma\n",
        "plt.show()"
      ],
      "metadata": {
        "colab": {
          "base_uri": "https://localhost:8080/",
          "height": 564
        },
        "id": "pCLG88q_07Ha",
        "outputId": "6471b43f-3695-485d-e501-c0b46b3c3f8d"
      },
      "execution_count": 28,
      "outputs": [
        {
          "output_type": "display_data",
          "data": {
            "text/plain": [
              "<Figure size 1000x600 with 1 Axes>"
            ],
            "image/png": "[encoded data removed]"
          },
          "metadata": {}
        }
      ]
    }
  ]
}