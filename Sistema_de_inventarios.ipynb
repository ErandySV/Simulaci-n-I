{
  "nbformat": 4,
  "nbformat_minor": 0,
  "metadata": {
    "colab": {
      "provenance": [],
      "authorship_tag": "ABX9TyPpP5nylQYl4lmnN/pPxPG7",
      "include_colab_link": true
    },
    "kernelspec": {
      "name": "python3",
      "display_name": "Python 3"
    },
    "language_info": {
      "name": "python"
    }
  },
  "cells": [
    {
      "cell_type": "markdown",
      "metadata": {
        "id": "view-in-github",
        "colab_type": "text"
      },
      "source": [
        "<a href=\"https://colab.research.google.com/github/ErandySV/Simulaci-n-I/blob/main/Sistema_de_inventarios.ipynb\" target=\"_parent\"><img src=\"https://colab.research.google.com/assets/colab-badge.svg\" alt=\"Open In Colab\"/></a>"
      ]
    },
    {
      "cell_type": "markdown",
      "source": [
        "Sistema de inventarios"
      ],
      "metadata": {
        "id": "Q0515sZ87qBh"
      }
    },
    {
      "cell_type": "markdown",
      "source": [
        "Simulación de  un sistema de inventarios a lo largo de 12 meses"
      ],
      "metadata": {
        "id": "0oBhOaOl8MYc"
      }
    },
    {
      "cell_type": "code",
      "execution_count": 19,
      "metadata": {
        "id": "PIHGmRiBz6H4"
      },
      "outputs": [],
      "source": [
        "import random as rnd\n",
        "import numpy as np\n",
        "from tabulate import tabulate\n",
        "import matplotlib.pyplot as plt"
      ]
    },
    {
      "cell_type": "code",
      "source": [
        "# Función para calcular la demanda y el número aleatorio generado\n",
        "def demanda():\n",
        "    # Definir los límites de los intervalos y los valores de demanda asociados\n",
        "    intervalos = [\n",
        "        (0.000, 0.010, 35),\n",
        "        (0.010, 0.025, 36),\n",
        "        (0.025, 0.045, 37),\n",
        "        (0.045, 0.065, 38),\n",
        "        (0.065, 0.087, 39),\n",
        "        (0.087, 0.110, 40),\n",
        "        (0.110, 0.135, 41),\n",
        "        (0.135, 0.162, 42),\n",
        "        (0.162, 0.190, 43),\n",
        "        (0.190, 0.219, 44),\n",
        "        (0.219, 0.254, 45),\n",
        "        (0.254, 0.299, 46),\n",
        "        (0.299, 0.359, 47),\n",
        "        (0.359, 0.424, 48),\n",
        "        (0.424, 0.494, 49),\n",
        "        (0.494, 0.574, 50),\n",
        "        (0.574, 0.649, 51),\n",
        "        (0.649, 0.719, 52),\n",
        "        (0.719, 0.784, 53),\n",
        "        (0.784, 0.844, 54),\n",
        "        (0.844, 0.894, 55),\n",
        "        (0.894, 0.934, 56),\n",
        "        (0.934, 0.964, 57),\n",
        "        (0.964, 0.980, 58),\n",
        "        (0.980, 0.995, 59),\n",
        "        (0.995, 1.000, 60)\n",
        "    ]\n",
        "\n",
        "    # Generar un número aleatorio en el intervalo [0, 1)\n",
        "    u = rnd.random()\n",
        "\n",
        "    # Encontrar el valor de demanda correspondiente al número aleatorio generado\n",
        "    for a, b, valor_demanda in intervalos:\n",
        "        if a <= u < b:\n",
        "            return valor_demanda, u\n",
        "\n",
        "    # En caso extremo (u == 1.0), retornar el último valor de demanda\n",
        "    return intervalos[-1][2], u"
      ],
      "metadata": {
        "id": "--icC4nqH7pJ"
      },
      "execution_count": 20,
      "outputs": []
    },
    {
      "cell_type": "code",
      "source": [
        "\n",
        "# Función para ajustar la demanda según el mes\n",
        "def demanda_ajustada(x, mes):\n",
        "    # Definir los factores de ajuste por mes\n",
        "    factor_mes = [1.2, 1, 0.9, 0.8, 0.8, 0.7, 0.8, 0.9, 1, 1.2, 1.3, 1.4]\n",
        "\n",
        "    # Validar que el mes esté dentro del rango correcto (1 a 12)\n",
        "    if 1 <= mes <= len(factor_mes):\n",
        "        # Aplicar el factor de ajuste correspondiente al mes\n",
        "        x = round(x * factor_mes[mes - 1])\n",
        "\n",
        "    return x\n"
      ],
      "metadata": {
        "id": "lMNvaMULH-Hh"
      },
      "execution_count": 21,
      "outputs": []
    },
    {
      "cell_type": "code",
      "source": [
        "# Función para calcular el tiempo de entrega y estado de carga pendiente\n",
        "def entrega(carga_pendiente, cont_entregas):\n",
        "    v = rnd.random()\n",
        "    if 0 <= v < 0.3:\n",
        "        tiempo_entrega = 1\n",
        "    elif 0.3 <= v < 0.7:\n",
        "        tiempo_entrega = 2\n",
        "    else:\n",
        "        tiempo_entrega = 3\n",
        "    carga_pendiente = True\n",
        "    cont_entregas += 1\n",
        "    return tiempo_entrega, carga_pendiente, cont_entregas"
      ],
      "metadata": {
        "id": "MCbnf32OIBrB"
      },
      "execution_count": 22,
      "outputs": []
    },
    {
      "cell_type": "code",
      "source": [
        "# Variables iniciales\n",
        "inv_inicial = 150\n",
        "inv_faltante = 0\n",
        "carga_pendiente = False\n",
        "t_entrega = 0\n",
        "cont_entregas = 0\n",
        "q = 200\n",
        "R = 100\n",
        "data = []\n",
        "# Listas para almacenar datos para la gráfica\n",
        "meses = []\n",
        "inventario_inicial = []\n",
        "inventario_final=[]"
      ],
      "metadata": {
        "id": "x4eF7JJGIG5Q"
      },
      "execution_count": 41,
      "outputs": []
    },
    {
      "cell_type": "code",
      "source": [
        "\n",
        "\n",
        "# Simulación de 12 meses\n",
        "for m in range(12):\n",
        "    mes = m + 1\n",
        "\n",
        "    # Calcular demanda y demanda ajustada\n",
        "    dem, val = demanda()\n",
        "    dem_ajus = demanda_ajustada(dem, mes)\n",
        "\n",
        "    # Calcular inventario inicial y final\n",
        "    inv_final = inv_inicial - dem_ajus\n",
        "\n",
        "    # Guardar datos para la tabla\n",
        "    inv_inicial_temp = inv_inicial  # Guardamos el inventario inicial antes de cualquier modificación\n",
        "    inventario_promedio = (inv_inicial_temp + inv_final) / 2  # Calculamos el inventario promedio\n",
        "    if inv_final < 0:\n",
        "        faltante = abs(inv_final)\n",
        "        data.append([mes, inv_inicial_temp, val, dem, dem_ajus, \"-\", faltante, t_entrega, np.round((inv_inicial_temp ** 2) / (2 * dem_ajus))])\n",
        "        inv_faltante += faltante\n",
        "    else:\n",
        "        data.append([mes, inv_inicial_temp, val,  dem_ajus, inv_final, 0, t_entrega, inventario_promedio])\n",
        "\n",
        "    # Guardar datos para la gráfica\n",
        "    meses.append(mes)\n",
        "    inventario_inicial.append(inv_inicial)\n",
        "\n",
        "    # Actualizar inventario inicial para el próximo mes\n",
        "    inv_inicial = inv_final\n",
        "\n",
        "    # Verificar y calcular tiempo de entrega si es necesario\n",
        "    if inv_final <= R and not carga_pendiente:\n",
        "        t_entrega, carga_pendiente, cont_entregas = entrega(carga_pendiente, cont_entregas)\n",
        "\n",
        "    # Actualizar contador de recepción de entrega si hay carga pendiente\n",
        "    if carga_pendiente:\n",
        "        cont_entregas += 1\n",
        "\n",
        "    # Verificar si se cumple el tiempo de entrega y ajustar inventario y estado de carga\n",
        "    if cont_entregas == t_entrega:\n",
        "        inv_inicial += q\n",
        "        carga_pendiente = False\n",
        "        t_entrega = 0\n",
        "        cont_entregas = 0\n",
        "        inventario_i.append(inv_inicial)\n",
        "\n"
      ],
      "metadata": {
        "id": "ToR-RXOYB4GQ"
      },
      "execution_count": 59,
      "outputs": []
    },
    {
      "cell_type": "code",
      "source": [
        "# Imprimir tabla usando tabulate\n",
        "headers = ['Mes', 'Inventario inicial', 'Número aleatorio', 'Demanda', 'Demanda ajustada', 'Inventario final', 'Faltante', 'Orden', 'Inventario mensual promedio']\n",
        "print(tabulate(data, headers=headers, tablefmt=\"fancy_grid\", showindex=False))"
      ],
      "metadata": {
        "colab": {
          "base_uri": "https://localhost:8080/"
        },
        "id": "d1JX5YTnIP4u",
        "outputId": "142c3cfc-520d-4f21-94c6-2af8d2555d46"
      },
      "execution_count": 61,
      "outputs": [
        {
          "output_type": "stream",
          "name": "stdout",
          "text": [
            "╒═══════╤══════════════════════╤════════════════════╤═══════════╤════════════════════╤════════════════════╤════════════╤═════════╤═══════════════════════════════╕\n",
            "│   Mes │   Inventario inicial │   Número aleatorio │   Demanda │   Demanda ajustada │ Inventario final   │   Faltante │   Orden │   Inventario mensual promedio │\n",
            "╞═══════╪══════════════════════╪════════════════════╪═══════════╪════════════════════╪════════════════════╪════════════╪═════════╪═══════════════════════════════╡\n",
            "│     1 │                  150 │          0.377697  │        48 │                 58 │ 92                 │          0 │       0 │                           121 │\n",
            "├───────┼──────────────────────┼────────────────────┼───────────┼────────────────────┼────────────────────┼────────────┼─────────┼───────────────────────────────┤\n",
            "│     2 │                   92 │          0.600559  │        51 │                 51 │ 41                 │          0 │       2 │                            66 │\n",
            "├───────┼──────────────────────┼────────────────────┼───────────┼────────────────────┼────────────────────┼────────────┼─────────┼───────────────────────────────┤\n",
            "│     3 │                   41 │          0.760366  │        53 │                 48 │ -                  │          7 │       2 │                            18 │\n",
            "├───────┼──────────────────────┼────────────────────┼───────────┼────────────────────┼────────────────────┼────────────┼─────────┼───────────────────────────────┤\n",
            "│     4 │                  193 │          0.185264  │        43 │                 34 │ 159                │          0 │       0 │                           176 │\n",
            "├───────┼──────────────────────┼────────────────────┼───────────┼────────────────────┼────────────────────┼────────────┼─────────┼───────────────────────────────┤\n",
            "│     5 │                  159 │          0.255283  │        46 │                 37 │ 122                │          0 │       0 │                           140 │\n",
            "├───────┼──────────────────────┼────────────────────┼───────────┼────────────────────┼────────────────────┼────────────┼─────────┼───────────────────────────────┤\n",
            "│     6 │                  122 │          0.69779   │        52 │                 36 │ 86                 │          0 │       0 │                           104 │\n",
            "├───────┼──────────────────────┼────────────────────┼───────────┼────────────────────┼────────────────────┼────────────┼─────────┼───────────────────────────────┤\n",
            "│     7 │                   86 │          0.122811  │        41 │                 33 │ 53                 │          0 │       3 │                            70 │\n",
            "├───────┼──────────────────────┼────────────────────┼───────────┼────────────────────┼────────────────────┼────────────┼─────────┼───────────────────────────────┤\n",
            "│     8 │                   53 │          0.927359  │        56 │                 50 │ 3                  │          0 │       3 │                            28 │\n",
            "├───────┼──────────────────────┼────────────────────┼───────────┼────────────────────┼────────────────────┼────────────┼─────────┼───────────────────────────────┤\n",
            "│     9 │                    3 │          0.428511  │        49 │                 49 │ -                  │         46 │       3 │                             0 │\n",
            "├───────┼──────────────────────┼────────────────────┼───────────┼────────────────────┼────────────────────┼────────────┼─────────┼───────────────────────────────┤\n",
            "│    10 │                  154 │          0.742985  │        53 │                 64 │ 90                 │          0 │       0 │                           122 │\n",
            "├───────┼──────────────────────┼────────────────────┼───────────┼────────────────────┼────────────────────┼────────────┼─────────┼───────────────────────────────┤\n",
            "│    11 │                   90 │          0.390146  │        48 │                 62 │ 28                 │          0 │       3 │                            59 │\n",
            "├───────┼──────────────────────┼────────────────────┼───────────┼────────────────────┼────────────────────┼────────────┼─────────┼───────────────────────────────┤\n",
            "│    12 │                   28 │          0.252844  │        45 │                 63 │ -                  │         35 │       3 │                             6 │\n",
            "├───────┼──────────────────────┼────────────────────┼───────────┼────────────────────┼────────────────────┼────────────┼─────────┼───────────────────────────────┤\n",
            "│     1 │                  -35 │          0.336585  │        47 │                 56 │ -                  │         91 │       3 │                            11 │\n",
            "├───────┼──────────────────────┼────────────────────┼───────────┼────────────────────┼────────────────────┼────────────┼─────────┼───────────────────────────────┤\n",
            "│     2 │                  -91 │          0.588544  │        51 │                 51 │ -                  │        142 │       3 │                            81 │\n",
            "├───────┼──────────────────────┼────────────────────┼───────────┼────────────────────┼────────────────────┼────────────┼─────────┼───────────────────────────────┤\n",
            "│     3 │                 -142 │          0.940428  │        57 │                 51 │ -                  │        193 │       3 │                           198 │\n",
            "├───────┼──────────────────────┼────────────────────┼───────────┼────────────────────┼────────────────────┼────────────┼─────────┼───────────────────────────────┤\n",
            "│     4 │                 -193 │          0.898926  │        56 │                 45 │ -                  │        238 │       3 │                           414 │\n",
            "├───────┼──────────────────────┼────────────────────┼───────────┼────────────────────┼────────────────────┼────────────┼─────────┼───────────────────────────────┤\n",
            "│     5 │                 -238 │          0.376858  │        48 │                 38 │ -                  │        276 │       3 │                           745 │\n",
            "├───────┼──────────────────────┼────────────────────┼───────────┼────────────────────┼────────────────────┼────────────┼─────────┼───────────────────────────────┤\n",
            "│     6 │                 -276 │          0.0241584 │        36 │                 25 │ -                  │        301 │       3 │                          1524 │\n",
            "├───────┼──────────────────────┼────────────────────┼───────────┼────────────────────┼────────────────────┼────────────┼─────────┼───────────────────────────────┤\n",
            "│     7 │                 -301 │          0.697698  │        52 │                 42 │ -                  │        343 │       3 │                          1079 │\n",
            "├───────┼──────────────────────┼────────────────────┼───────────┼────────────────────┼────────────────────┼────────────┼─────────┼───────────────────────────────┤\n",
            "│     8 │                 -343 │          0.907431  │        56 │                 50 │ -                  │        393 │       3 │                          1176 │\n",
            "├───────┼──────────────────────┼────────────────────┼───────────┼────────────────────┼────────────────────┼────────────┼─────────┼───────────────────────────────┤\n",
            "│     9 │                 -393 │          0.670635  │        52 │                 52 │ -                  │        445 │       3 │                          1485 │\n",
            "├───────┼──────────────────────┼────────────────────┼───────────┼────────────────────┼────────────────────┼────────────┼─────────┼───────────────────────────────┤\n",
            "│    10 │                 -445 │          0.994649  │        59 │                 71 │ -                  │        516 │       3 │                          1395 │\n",
            "├───────┼──────────────────────┼────────────────────┼───────────┼────────────────────┼────────────────────┼────────────┼─────────┼───────────────────────────────┤\n",
            "│    11 │                 -516 │          0.359152  │        48 │                 62 │ -                  │        578 │       3 │                          2147 │\n",
            "├───────┼──────────────────────┼────────────────────┼───────────┼────────────────────┼────────────────────┼────────────┼─────────┼───────────────────────────────┤\n",
            "│    12 │                 -578 │          0.795637  │        54 │                 76 │ -                  │        654 │       3 │                          2198 │\n",
            "├───────┼──────────────────────┼────────────────────┼───────────┼────────────────────┼────────────────────┼────────────┼─────────┼───────────────────────────────┤\n",
            "│     1 │                 -654 │          0.954514  │        57 │                 68 │ -                  │        722 │       3 │                          3145 │\n",
            "├───────┼──────────────────────┼────────────────────┼───────────┼────────────────────┼────────────────────┼────────────┼─────────┼───────────────────────────────┤\n",
            "│     2 │                 -722 │          0.277562  │        46 │                 46 │ -                  │        768 │       3 │                          5666 │\n",
            "├───────┼──────────────────────┼────────────────────┼───────────┼────────────────────┼────────────────────┼────────────┼─────────┼───────────────────────────────┤\n",
            "│     3 │                 -768 │          0.660287  │        52 │                 47 │ -                  │        815 │       3 │                          6275 │\n",
            "├───────┼──────────────────────┼────────────────────┼───────────┼────────────────────┼────────────────────┼────────────┼─────────┼───────────────────────────────┤\n",
            "│     4 │                 -815 │          0.277627  │        46 │                 37 │ -                  │        852 │       3 │                          8976 │\n",
            "├───────┼──────────────────────┼────────────────────┼───────────┼────────────────────┼────────────────────┼────────────┼─────────┼───────────────────────────────┤\n",
            "│     5 │                 -852 │          0.66606   │        52 │                 42 │ -                  │        894 │       3 │                          8642 │\n",
            "├───────┼──────────────────────┼────────────────────┼───────────┼────────────────────┼────────────────────┼────────────┼─────────┼───────────────────────────────┤\n",
            "│     6 │                 -894 │          0.481456  │        49 │                 34 │ -                  │        928 │       3 │                         11753 │\n",
            "├───────┼──────────────────────┼────────────────────┼───────────┼────────────────────┼────────────────────┼────────────┼─────────┼───────────────────────────────┤\n",
            "│     7 │                 -928 │          0.158339  │        42 │                 34 │ -                  │        962 │       3 │                         12664 │\n",
            "├───────┼──────────────────────┼────────────────────┼───────────┼────────────────────┼────────────────────┼────────────┼─────────┼───────────────────────────────┤\n",
            "│     8 │                 -962 │          0.502249  │        50 │                 45 │ -                  │       1007 │       3 │                         10283 │\n",
            "├───────┼──────────────────────┼────────────────────┼───────────┼────────────────────┼────────────────────┼────────────┼─────────┼───────────────────────────────┤\n",
            "│     9 │                -1007 │          0.632922  │        51 │                 51 │ -                  │       1058 │       3 │                          9942 │\n",
            "├───────┼──────────────────────┼────────────────────┼───────────┼────────────────────┼────────────────────┼────────────┼─────────┼───────────────────────────────┤\n",
            "│    10 │                -1058 │          0.395667  │        48 │                 58 │ -                  │       1116 │       3 │                          9650 │\n",
            "├───────┼──────────────────────┼────────────────────┼───────────┼────────────────────┼────────────────────┼────────────┼─────────┼───────────────────────────────┤\n",
            "│    11 │                -1116 │          0.679569  │        52 │                 68 │ -                  │       1184 │       3 │                          9158 │\n",
            "├───────┼──────────────────────┼────────────────────┼───────────┼────────────────────┼────────────────────┼────────────┼─────────┼───────────────────────────────┤\n",
            "│    12 │                -1184 │          0.579789  │        51 │                 71 │ -                  │       1255 │       3 │                          9872 │\n",
            "╘═══════╧══════════════════════╧════════════════════╧═══════════╧════════════════════╧════════════════════╧════════════╧═════════╧═══════════════════════════════╛\n"
          ]
        }
      ]
    },
    {
      "cell_type": "code",
      "source": [
        "# Graficar el inventario inicial a lo largo de los meses\n",
        "plt.plot(inventario_i, marker='o')\n",
        "plt.axhline(100, color=\"black\", linestyle='dashdot')\n",
        "plt.axhline(0, color='black')\n",
        "plt.grid(True)\n",
        "plt.legend()\n",
        "plt.tight_layout()\n",
        "plt.show()"
      ],
      "metadata": {
        "colab": {
          "base_uri": "https://localhost:8080/",
          "height": 524
        },
        "id": "qfD71E41Vra5",
        "outputId": "d3439425-a51c-4e46-8ee6-14015aa42a26"
      },
      "execution_count": 63,
      "outputs": [
        {
          "output_type": "stream",
          "name": "stderr",
          "text": [
            "WARNING:matplotlib.legend:No artists with labels found to put in legend.  Note that artists whose label start with an underscore are ignored when legend() is called with no argument.\n"
          ]
        },
        {
          "output_type": "display_data",
          "data": {
            "text/plain": [
              "<Figure size 640x480 with 1 Axes>"
            ],
            "image/png": "[encoded data removed]"
          },
          "metadata": {}
        }
      ]
    },
    {
      "cell_type": "markdown",
      "source": [
        "Ahora implementaremos un algoritmo para encontrar la solución optima"
      ],
      "metadata": {
        "id": "RJO1-uRSZC4r"
      }
    },
    {
      "cell_type": "markdown",
      "source": [
        "En este caso, la optimización implicaría ajustar los parámetros:\n",
        "\n",
        "*   punto de reorden (R)\n",
        "*   la cantidad de pedido (q)\n",
        "\n",
        " para minimizar el inventario mensual promedio.\n",
        "\n",
        "Consideraremos que el objetivo es minimizar el inventario mensual promedio para reducir costos de almacenamiento o para maximizar la eficiencia.\n",
        "\n",
        "**Solución optima**\n",
        "\n",
        "\n",
        "1.   Minimizar inventario\n",
        "Calcular y optimizar la media de los inventarios iniciales de cada mes\n",
        "2.    parámetros:\n",
        "\n",
        "*   punto de reorden (R)\n",
        "*   la cantidad de pedido (q)\n",
        "\n",
        "3.   Método de optimización\n",
        "4.   Validación\n",
        "\n",
        "\n",
        "\n"
      ],
      "metadata": {
        "id": "fyS39o6CZJ4C"
      }
    },
    {
      "cell_type": "code",
      "source": [
        "# Función para encontrar la solución óptima\n",
        "def solucion_optima():\n",
        "    mejor_inv = np.inf\n",
        "    mejor_R = 0\n",
        "    mejor_q = 0\n",
        "\n",
        "    # Definir rangos para R y q\n",
        "    for R in range(50, 151, 10):\n",
        "        for q in range(100, 301, 50):\n",
        "            inventario_mensual_promedio = calcular_inventario_mensual_promedio(R, q)\n",
        "\n",
        "            if inventario_mensual_promedio < mejor_inv:\n",
        "                mejor_inv = inventario_mensual_promedio\n",
        "                mejor_R = R\n",
        "                mejor_q = q\n",
        "\n",
        "    return mejor_R, mejor_q, mejor_inv\n",
        "\n",
        "# solución óptima\n",
        "mejor_R, mejor_q, mejor_inv = solucion_optima()\n",
        "\n",
        "\n"
      ],
      "metadata": {
        "id": "gtqhr_lLdshs"
      },
      "execution_count": 81,
      "outputs": []
    },
    {
      "cell_type": "code",
      "source": [
        "# Imprimir resultados\n",
        "print(\"Solución optima encontrada:\")\n",
        "print(f\" R : {mejor_R}\")\n",
        "print(f\" q : {mejor_q}\")\n",
        "print(f\"inventario: {mejor_inv}\")"
      ],
      "metadata": {
        "colab": {
          "base_uri": "https://localhost:8080/"
        },
        "id": "UnCVN2uBfECl",
        "outputId": "152f50e8-48ed-4ff4-d62c-a56d5f43ba5c"
      },
      "execution_count": 84,
      "outputs": [
        {
          "output_type": "stream",
          "name": "stdout",
          "text": [
            "Solución optima encontrada:\n",
            " R : 120\n",
            " q : 100\n",
            "inventario: -139.375\n"
          ]
        }
      ]
    }
  ]
}