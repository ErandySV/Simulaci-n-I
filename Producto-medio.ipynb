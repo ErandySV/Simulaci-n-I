{
  "nbformat": 4,
  "nbformat_minor": 0,
  "metadata": {
    "colab": {
      "provenance": [],
      "authorship_tag": "ABX9TyOiVgYf1Tbv41Sph31aKeqs",
      "include_colab_link": true
    },
    "kernelspec": {
      "name": "python3",
      "display_name": "Python 3"
    },
    "language_info": {
      "name": "python"
    }
  },
  "cells": [
    {
      "cell_type": "markdown",
      "metadata": {
        "id": "view-in-github",
        "colab_type": "text"
      },
      "source": [
        "<a href=\"https://colab.research.google.com/github/ErandySV/Simulaci-n-I/blob/main/Producto-medio.ipynb\" target=\"_parent\"><img src=\"https://colab.research.google.com/assets/colab-badge.svg\" alt=\"Open In Colab\"/></a>"
      ]
    },
    {
      "cell_type": "code",
      "execution_count": null,
      "metadata": {
        "id": "8mGAv6KXiZRL"
      },
      "outputs": [],
      "source": [
        "Método producto medio"
      ]
    },
    {
      "cell_type": "code",
      "source": [
        "#1.-Seleccionar dos semillas (Xn-1 y Con cada una de p dígitos)\n",
        "#2.-Multiplicamos X y Xn-1\n",
        "#3.- Del producto tomamos p dígitos centrales y les llamamos Xn+1\n",
        "#4.-Repetimos 1-3"
      ],
      "metadata": {
        "id": "WTO2pcCgi8WE"
      },
      "execution_count": 3,
      "outputs": []
    },
    {
      "cell_type": "markdown",
      "source": [
        "Ingresar el número de dígitos p con el que trabajaremos"
      ],
      "metadata": {
        "id": "etRKLyGLkIyW"
      }
    },
    {
      "cell_type": "code",
      "source": [
        "p= input(\"Escriba el número de dígitos deseado: \")"
      ],
      "metadata": {
        "id": "eFel_p4pkOCD"
      },
      "execution_count": null,
      "outputs": []
    },
    {
      "cell_type": "markdown",
      "source": [
        "Ingresas las 2 semillas"
      ],
      "metadata": {
        "id": "oRuAW3DAk4q_"
      }
    },
    {
      "cell_type": "code",
      "source": [
        "Xn= input(\"Ingrese la primer semilla: \")"
      ],
      "metadata": {
        "colab": {
          "base_uri": "https://localhost:8080/"
        },
        "id": "hjT0nGAXk74Y",
        "outputId": "1901f28e-8b58-430b-950f-75a29946f8de"
      },
      "execution_count": 10,
      "outputs": [
        {
          "name": "stdout",
          "output_type": "stream",
          "text": [
            "Ingrese la primer semilla: 243\n"
          ]
        }
      ]
    },
    {
      "cell_type": "code",
      "source": [
        "X_n1= input(\"Ingrese la segunda semilla: \")"
      ],
      "metadata": {
        "colab": {
          "base_uri": "https://localhost:8080/"
        },
        "id": "vDF926PXlaU9",
        "outputId": "2eb8df86-c9f3-4971-e226-bdbbd53fab47"
      },
      "execution_count": 13,
      "outputs": [
        {
          "name": "stdout",
          "output_type": "stream",
          "text": [
            "Ingrese la segunda semilla: 432\n"
          ]
        }
      ]
    },
    {
      "cell_type": "markdown",
      "source": [
        "Establecer la condicional para no aceptar un número diferente al establecido"
      ],
      "metadata": {
        "id": "0aihFOHCkj40"
      }
    },
    {
      "cell_type": "code",
      "source": [
        "tx_n= len(Xn)\n",
        "print(tx_n)\n",
        "\n",
        "tx_n1= len(X_n1)\n",
        "print(tx_n1)"
      ],
      "metadata": {
        "colab": {
          "base_uri": "https://localhost:8080/"
        },
        "id": "Sv5ToOlolxjm",
        "outputId": "0d7e408e-1c95-4b88-d66f-f88a0439c158"
      },
      "execution_count": 54,
      "outputs": [
        {
          "output_type": "stream",
          "name": "stdout",
          "text": [
            "3\n",
            "3\n"
          ]
        }
      ]
    },
    {
      "cell_type": "code",
      "source": [
        "\n",
        "if (tx_n != int(p)) or (tx_n1 != int(p)):\n",
        "\n",
        "    print(\"Recuerde que el número de dígitos debe ser\", p)"
      ],
      "metadata": {
        "id": "wO0w27h1shT5"
      },
      "execution_count": 56,
      "outputs": []
    },
    {
      "cell_type": "markdown",
      "source": [
        "Continuar con el paso 2, multiplicar los números"
      ],
      "metadata": {
        "id": "0jB44FMRuAMM"
      }
    },
    {
      "cell_type": "code",
      "source": [
        "\n",
        "for i in range(10):\n",
        "    m1= X_n * X_n\n",
        "    print(m1)"
      ],
      "metadata": {
        "id": "CDGH3GSzuG7i"
      },
      "execution_count": null,
      "outputs": []
    }
  ]
}