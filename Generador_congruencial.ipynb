{
  "nbformat": 4,
  "nbformat_minor": 0,
  "metadata": {
    "colab": {
      "provenance": [],
      "authorship_tag": "ABX9TyMGdMgHisXrgqnGwOnaAwEp",
      "include_colab_link": true
    },
    "kernelspec": {
      "name": "python3",
      "display_name": "Python 3"
    },
    "language_info": {
      "name": "python"
    }
  },
  "cells": [
    {
      "cell_type": "markdown",
      "metadata": {
        "id": "view-in-github",
        "colab_type": "text"
      },
      "source": [
        "<a href=\"https://colab.research.google.com/github/ErandySV/Simulaci-n-I/blob/main/Generador_congruencial.ipynb\" target=\"_parent\"><img src=\"https://colab.research.google.com/assets/colab-badge.svg\" alt=\"Open In Colab\"/></a>"
      ]
    },
    {
      "cell_type": "markdown",
      "source": [
        "Generador congruencial"
      ],
      "metadata": {
        "id": "cBe8jdF_sd3R"
      }
    },
    {
      "cell_type": "markdown",
      "source": [
        "Un generador congruencial es un método para generar secuencias de números pseudoaleatorios mediante una relación de recurrencia matemática. Se define por la siguiente fórmula:"
      ],
      "metadata": {
        "id": "Z8QpHCoizV9u"
      }
    },
    {
      "cell_type": "markdown",
      "source": [
        "X_(n+1)=(a*X_n+c) mod(m)"
      ],
      "metadata": {
        "id": "e1puBTdPznqR"
      }
    },
    {
      "cell_type": "markdown",
      "source": [
        "Recordando que el módulo es el ciclo de la división"
      ],
      "metadata": {
        "id": "wkfitgz8si3B"
      }
    },
    {
      "cell_type": "code",
      "source": [
        "from tabulate import tabulate\n",
        "import numpy as np\n",
        "import pandas as pd\n",
        "\n",
        "# Parámetros del generador congruencial\n",
        "a = 13\n",
        "c = 0\n",
        "m = 2**6\n",
        "x_0 = 1  # Semilla inicial\n",
        "\n",
        "# Número de iteraciones\n",
        "n = 5\n",
        "\n",
        "# Generador congruencial\n",
        "datos = []\n",
        "for i in range(n):\n",
        "    x_1 = (a * x_0 + c) % m\n",
        "    x2 = (a * x_0 + c) % m\n",
        "    x3 = x_0 / m\n",
        "\n",
        "    # Agregar los resultados a la lista de datos\n",
        "    datos.append([x_0, a*x_0+c, x2, x3])\n",
        "\n",
        "    # Actualizar la semilla para la siguiente iteración\n",
        "    x_0 = x_1\n",
        "\n",
        "# Crear DataFrame a partir de la lista de datos\n",
        "tabla_datos = pd.DataFrame(datos, columns=['x_n', 'a*x_n+c', 'a*x_n+c(modulo m)', 'x_n/m'])\n",
        "\n",
        "print(tabla_datos)"
      ],
      "metadata": {
        "colab": {
          "base_uri": "https://localhost:8080/"
        },
        "id": "Z4Zsd5QoyeVv",
        "outputId": "80a40b7f-19e4-48e3-e00b-423da495c7f8"
      },
      "execution_count": 27,
      "outputs": [
        {
          "output_type": "stream",
          "name": "stdout",
          "text": [
            "   x_n  a*x_n+c  a*x_n+c(modulo m)     x_n/m\n",
            "0    1       13                 13  0.015625\n",
            "1   13      169                 41  0.203125\n",
            "2   41      533                 21  0.640625\n",
            "3   21      273                 17  0.328125\n",
            "4   17      221                 29  0.265625\n"
          ]
        }
      ]
    },
    {
      "cell_type": "markdown",
      "source": [
        "En conclusión el método congruencial es una herramienta útil para generar  números pseudoaleatorios, pero es importante comprender sus limitaciones y considerar cuidadosamente la elección de los parámetros del generador para garantizar una buena secuencia."
      ],
      "metadata": {
        "id": "6e3sAR5F0OTn"
      }
    }
  ]
}