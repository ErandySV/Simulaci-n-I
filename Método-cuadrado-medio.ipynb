{
  "nbformat": 4,
  "nbformat_minor": 0,
  "metadata": {
    "colab": {
      "provenance": [],
      "authorship_tag": "ABX9TyOGmHFphCwpnJwU6XzsECPy",
      "include_colab_link": true
    },
    "kernelspec": {
      "name": "python3",
      "display_name": "Python 3"
    },
    "language_info": {
      "name": "python"
    }
  },
  "cells": [
    {
      "cell_type": "markdown",
      "metadata": {
        "id": "view-in-github",
        "colab_type": "text"
      },
      "source": [
        "<a href=\"https://colab.research.google.com/github/ErandySV/Simulaci-n-I/blob/main/M%C3%A9todo-cuadrado-medio.ipynb\" target=\"_parent\"><img src=\"https://colab.research.google.com/assets/colab-badge.svg\" alt=\"Open In Colab\"/></a>"
      ]
    },
    {
      "cell_type": "markdown",
      "source": [
        "Generar un número aleatorio con el método de cuadrado medio"
      ],
      "metadata": {
        "id": "HPxDFL5NGPxn"
      }
    },
    {
      "cell_type": "code",
      "source": [
        "#1.-Numero de 4 dígitos\n",
        "#2.- Elevar el número\n",
        "#3.-Tomar el cuadrado medio\n",
        "#4.- Repetir 1-3"
      ],
      "metadata": {
        "id": "W9ZeS_DeGX5S"
      },
      "execution_count": null,
      "outputs": []
    },
    {
      "cell_type": "code",
      "source": [
        "import math\n",
        "x_0=2124\n",
        "x_cuadrado=x_0**2\n",
        "print( \"El cuadrado de: \" ,x_0, \"es\", x_cuadrado)"
      ],
      "metadata": {
        "colab": {
          "base_uri": "https://localhost:8080/"
        },
        "id": "LQ3Z_IygGfJF",
        "outputId": "96ba965d-09ba-4829-9e3b-0acbba00abb3"
      },
      "execution_count": 56,
      "outputs": [
        {
          "output_type": "stream",
          "name": "stdout",
          "text": [
            "El cuadrado de:  2124 es 4511376\n"
          ]
        }
      ]
    },
    {
      "cell_type": "code",
      "source": [
        "x_0 = '2124'\n",
        "tam1 = len(x_0)\n",
        "print(\"Número de dígitos: \", tam1)\n",
        "numero1 = int(x_0)"
      ],
      "metadata": {
        "id": "GXcY6WLfZlsO",
        "outputId": "8ee4fe41-57a4-47d5-cd18-4fd3324480e0",
        "colab": {
          "base_uri": "https://localhost:8080/"
        }
      },
      "execution_count": 100,
      "outputs": [
        {
          "output_type": "stream",
          "name": "stdout",
          "text": [
            "Número de dígitos:  4\n"
          ]
        }
      ]
    },
    {
      "cell_type": "markdown",
      "source": [
        "Contar los dígitos del número obtenido"
      ],
      "metadata": {
        "id": "yCXLOfekPo83"
      }
    },
    {
      "cell_type": "code",
      "source": [
        "\n",
        "\n",
        "n1=int(x_0)\n",
        "snum=str(x_cuadrado)\n",
        "t2=len(snum)"
      ],
      "metadata": {
        "id": "8Z8Ew17lPvYL",
        "outputId": "d99a98fc-f9e1-44b9-b7ef-bf1681de6c81",
        "colab": {
          "base_uri": "https://localhost:8080/"
        }
      },
      "execution_count": 33,
      "outputs": [
        {
          "output_type": "stream",
          "name": "stdout",
          "text": [
            "7\n"
          ]
        }
      ]
    },
    {
      "cell_type": "markdown",
      "source": [
        "Tomar el cuadrado medio y repetir pasos"
      ],
      "metadata": {
        "id": "vnuqCCbLIAdC"
      }
    },
    {
      "cell_type": "code",
      "source": [
        "for i in range(10):\n",
        " numero2 = numero1**2\n",
        " snumero2 = str(numero2)\n",
        " tam2 = len(snumero2)\n",
        " primerc = int((tam2 - tam1) / 2)\n",
        "\n",
        " snumero3 = snumero2[primerc:primerc+tam1]\n",
        " print (\"{}.  {}\".format(i,snumero3))\n",
        " numero1 = int(snumero3)"
      ],
      "metadata": {
        "id": "0Zph5sMJdkH2",
        "outputId": "d9fc0b3b-7fca-4440-8e7a-63611d419e2e",
        "colab": {
          "base_uri": "https://localhost:8080/"
        }
      },
      "execution_count": 101,
      "outputs": [
        {
          "output_type": "stream",
          "name": "stdout",
          "text": [
            "0.  5113\n",
            "1.  1427\n",
            "2.  0363\n",
            "3.  3176\n",
            "4.  0869\n",
            "5.  5516\n",
            "6.  4262\n",
            "7.  1646\n",
            "8.  7093\n",
            "9.  3106\n"
          ]
        }
      ]
    },
    {
      "cell_type": "code",
      "source": [],
      "metadata": {
        "id": "-t05DJyudBSK"
      },
      "execution_count": null,
      "outputs": []
    }
  ]
}