{
  "nbformat": 4,
  "nbformat_minor": 0,
  "metadata": {
    "colab": {
      "provenance": [],
      "authorship_tag": "ABX9TyPwshvfH0UZyWOSJAkgDqBx",
      "include_colab_link": true
    },
    "kernelspec": {
      "name": "python3",
      "display_name": "Python 3"
    },
    "language_info": {
      "name": "python"
    }
  },
  "cells": [
    {
      "cell_type": "markdown",
      "metadata": {
        "id": "view-in-github",
        "colab_type": "text"
      },
      "source": [
        "<a href=\"https://colab.research.google.com/github/ErandySV/Simulaci-n-I/blob/main/Generador_MetodoKS.ipynb\" target=\"_parent\"><img src=\"https://colab.research.google.com/assets/colab-badge.svg\" alt=\"Open In Colab\"/></a>"
      ]
    },
    {
      "cell_type": "code",
      "execution_count": null,
      "metadata": {
        "id": "XE_I0VBV8z9u"
      },
      "outputs": [],
      "source": []
    },
    {
      "cell_type": "markdown",
      "source": [
        "Prueba Kolmogorov-Smirnov\n"
      ],
      "metadata": {
        "id": "bd1-TvS4853L"
      }
    },
    {
      "cell_type": "markdown",
      "source": [
        "Método no paramétrico para probar si existe una diferencia significativa entre una distribución de frecuencias teórica.\n"
      ],
      "metadata": {
        "id": "0d-Qkxa48_E_"
      }
    },
    {
      "cell_type": "markdown",
      "source": [
        "Los pasos son los siguientes:\n"
      ],
      "metadata": {
        "id": "Jd27TKtH96Ct"
      }
    },
    {
      "cell_type": "markdown",
      "source": [
        "1. Ordenar de mayor a menor los números aleatorios"
      ],
      "metadata": {
        "id": "azEA1S7f98Ms"
      }
    },
    {
      "cell_type": "markdown",
      "source": [
        "2. Calcular D+, D- y D\n"
      ],
      "metadata": {
        "id": "cmbmhjAA-DMH"
      }
    },
    {
      "cell_type": "markdown",
      "source": [
        "Donde D+= max (1<i<n) |i/n -x_i|"
      ],
      "metadata": {
        "id": "JuMfqtpt-KVC"
      }
    },
    {
      "cell_type": "markdown",
      "source": [
        " D- = max (1<i<n) |x_i - (i-1)/n|"
      ],
      "metadata": {
        "id": "Y1bpLl6h-XNn"
      }
    },
    {
      "cell_type": "markdown",
      "source": [
        " D= max [D+,D-]\n"
      ],
      "metadata": {
        "id": "j7884RAN-gT9"
      }
    },
    {
      "cell_type": "markdown",
      "source": [
        "3. Comparamos con el valor critico d_a,n\n",
        "\n"
      ],
      "metadata": {
        "id": "Hguq8RXv-yxJ"
      }
    },
    {
      "cell_type": "markdown",
      "source": [
        "Se acepta si D<d_a,n"
      ],
      "metadata": {
        "id": "WAE_xZho_FiI"
      }
    },
    {
      "cell_type": "code",
      "source": [
        "from scipy.stats import ks_2samp\n",
        "import pandas as pd\n",
        "\n",
        "Valores = [0.8797, 0.3884, 0.6289, 0.875, 0.5999, 0.8589, 0.9996, 0.2415, 0.3808, 0.9606,\n",
        "           0.9848, 0.3469, 0.7977, 0.5844, 0.8147, 0.6431, 0.7387, 0.5613, 0.0318, 0.7401,\n",
        "           0.4557, 0.1592, 0.8536, 0.8846, 0.341, 0.1492, 0.8681, 0.5291, 0.3188, 0.5992,\n",
        "           0.917, 0.2204, 0.5991, 0.5461, 0.5739, 0.3254, 0.0856, 0.2258, 0.4603, 0.5027,\n",
        "           0.8376, 0.6235, 0.3681, 0.2088, 0.1525, 0.2006, 0.472, 0.4272, 0.636, 0.0954]\n",
        "\n",
        "# Ordenar valores\n",
        "Ordenados = sorted(Valores)\n",
        "\n",
        "# Calcular D+ y D- para cada iteración\n",
        "n = len(Valores)\n",
        "D_mas = []\n",
        "D_menos = []\n",
        "\n",
        "for i in range(n):\n",
        "    D_mas.append((i+1)/n - Ordenados[i])\n",
        "    D_menos.append(Ordenados[i] - i/n)\n",
        "\n",
        "# Crear una tabla que recopile los datos\n",
        "Dtabulados = pd.DataFrame({\n",
        "    'i': range(1, n+1),\n",
        "    'Valor': Ordenados,\n",
        "    'D+': D_mas,\n",
        "    'D-': D_menos\n",
        "})\n",
        "\n",
        "print(Dtabulados)\n",
        "\n",
        "# Calcular D\n",
        "D = max(max(D_mas), max(D_menos))\n",
        "print(\"El valor máximo entre D+ y D- es D:\", D)\n",
        "\n",
        "# Implementamos tabla de valores críticos\n",
        "tabla = {0.05: {10: 0.2216, 20: 0.192, 30: 0.158, 40: 0.1386, 50: 0.1246}}\n",
        "\n",
        "# Obtener valor crítico\n",
        "valor_critico = tabla[0.05][50]\n",
        "print(\"Valor crítico:\", valor_critico)\n",
        "\n",
        "# Comparar con el valor crítico\n",
        "if D < valor_critico:\n",
        "    print(\"Se acepta la hipótesis nula\")\n",
        "else:\n",
        "    print(\"Se rechaza la hipótesis nula\")"
      ],
      "metadata": {
        "colab": {
          "base_uri": "https://localhost:8080/"
        },
        "id": "hf-co3AjspqH",
        "outputId": "2448869a-5a03-40e2-e51e-05c750ab6ef4"
      },
      "execution_count": null,
      "outputs": [
        {
          "output_type": "stream",
          "name": "stdout",
          "text": [
            "     i   Valor      D+      D-\n",
            "0    1  0.0318 -0.0118  0.0318\n",
            "1    2  0.0856 -0.0456  0.0656\n",
            "2    3  0.0954 -0.0354  0.0554\n",
            "3    4  0.1492 -0.0692  0.0892\n",
            "4    5  0.1525 -0.0525  0.0725\n",
            "5    6  0.1592 -0.0392  0.0592\n",
            "6    7  0.2006 -0.0606  0.0806\n",
            "7    8  0.2088 -0.0488  0.0688\n",
            "8    9  0.2204 -0.0404  0.0604\n",
            "9   10  0.2258 -0.0258  0.0458\n",
            "10  11  0.2415 -0.0215  0.0415\n",
            "11  12  0.3188 -0.0788  0.0988\n",
            "12  13  0.3254 -0.0654  0.0854\n",
            "13  14  0.3410 -0.0610  0.0810\n",
            "14  15  0.3469 -0.0469  0.0669\n",
            "15  16  0.3681 -0.0481  0.0681\n",
            "16  17  0.3808 -0.0408  0.0608\n",
            "17  18  0.3884 -0.0284  0.0484\n",
            "18  19  0.4272 -0.0472  0.0672\n",
            "19  20  0.4557 -0.0557  0.0757\n",
            "20  21  0.4603 -0.0403  0.0603\n",
            "21  22  0.4720 -0.0320  0.0520\n",
            "22  23  0.5027 -0.0427  0.0627\n",
            "23  24  0.5291 -0.0491  0.0691\n",
            "24  25  0.5461 -0.0461  0.0661\n",
            "25  26  0.5613 -0.0413  0.0613\n",
            "26  27  0.5739 -0.0339  0.0539\n",
            "27  28  0.5844 -0.0244  0.0444\n",
            "28  29  0.5991 -0.0191  0.0391\n",
            "29  30  0.5992  0.0008  0.0192\n",
            "30  31  0.5999  0.0201 -0.0001\n",
            "31  32  0.6235  0.0165  0.0035\n",
            "32  33  0.6289  0.0311 -0.0111\n",
            "33  34  0.6360  0.0440 -0.0240\n",
            "34  35  0.6431  0.0569 -0.0369\n",
            "35  36  0.7387 -0.0187  0.0387\n",
            "36  37  0.7401 -0.0001  0.0201\n",
            "37  38  0.7977 -0.0377  0.0577\n",
            "38  39  0.8147 -0.0347  0.0547\n",
            "39  40  0.8376 -0.0376  0.0576\n",
            "40  41  0.8536 -0.0336  0.0536\n",
            "41  42  0.8589 -0.0189  0.0389\n",
            "42  43  0.8681 -0.0081  0.0281\n",
            "43  44  0.8750  0.0050  0.0150\n",
            "44  45  0.8797  0.0203 -0.0003\n",
            "45  46  0.8846  0.0354 -0.0154\n",
            "46  47  0.9170  0.0230 -0.0030\n",
            "47  48  0.9606 -0.0006  0.0206\n",
            "48  49  0.9848 -0.0048  0.0248\n",
            "49  50  0.9996  0.0004  0.0196\n",
            "El valor máximo entre D+ y D- es D: 0.09879999999999997\n",
            "Valor crítico: 0.1246\n",
            "Se acepta la hipótesis nula\n"
          ]
        }
      ]
    },
    {
      "cell_type": "markdown",
      "source": [
        "En conclusión el método de Kolmogorov-Smirnov es importante para evaluar la bondad de ajuste de una muestra a una distribución teórica y proporciona información relevante sobre los datos mostrados. Sin embargo, es importante interpretar los resultados con precaución y tener en cuenta sus limitaciones."
      ],
      "metadata": {
        "id": "X0GbVH9D_Ilt"
      }
    }
  ]
}