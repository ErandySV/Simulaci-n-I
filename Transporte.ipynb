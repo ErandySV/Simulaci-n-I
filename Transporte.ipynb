{
  "nbformat": 4,
  "nbformat_minor": 0,
  "metadata": {
    "colab": {
      "provenance": [],
      "authorship_tag": "ABX9TyM7EoViGefj2GtH8e8Vovr8",
      "include_colab_link": true
    },
    "kernelspec": {
      "name": "python3",
      "display_name": "Python 3"
    },
    "language_info": {
      "name": "python"
    }
  },
  "cells": [
    {
      "cell_type": "markdown",
      "metadata": {
        "id": "view-in-github",
        "colab_type": "text"
      },
      "source": [
        "<a href=\"https://colab.research.google.com/github/ErandySV/Simulaci-n-I/blob/main/Transporte.ipynb\" target=\"_parent\"><img src=\"https://colab.research.google.com/assets/colab-badge.svg\" alt=\"Open In Colab\"/></a>"
      ]
    },
    {
      "cell_type": "markdown",
      "source": [
        "# *Camión de transporte\n",
        "La empresa TIBASA, fabricante de tinas de baño tiene asignado un camion especial\n",
        "para el transporte de tinas terminadas. Dicho camion transporta diariamente 5 tinas.\n",
        "El peso de cada tina sigue la siguiente distribución de probabilidad:"
      ],
      "metadata": {
        "id": "Meec8KBjoD6b"
      }
    },
    {
      "cell_type": "markdown",
      "source": [
        "Si la capacidad del camión es de una tonelada, ¿cuál es la probabilidad de que el peso\n",
        "de las tinas exceda la capacidad del camión?"
      ],
      "metadata": {
        "id": "FLwIvS_inrVk"
      }
    },
    {
      "cell_type": "markdown",
      "source": [
        "a) Resolver analíticamente"
      ],
      "metadata": {
        "id": "lJT0ry1ZmsZA"
      }
    },
    {
      "cell_type": "code",
      "source": [
        "import random\n",
        "import numpy as np\n",
        "import matplotlib.pyplot as plt\n",
        "from scipy.stats import triang\n",
        "import math\n",
        "\n",
        "# Parámetros de la distribución triangular\n",
        "a = 190.0\n",
        "b = 230.0\n",
        "c = 210.0\n",
        "\n",
        "repeticiones = 1000000\n",
        "valores = [random.triangular(a, b, c) for _ in range(repeticiones)]\n",
        "\n",
        "# Crear el histograma de los valores generados\n",
        "plt.hist(valores, bins=50, density=True, alpha=0.6, color='black', label='Histograma')\n",
        "\n",
        "\n",
        "c_scaled = (c - a) / (b - a)\n",
        "x = np.linspace(a, b, 1000)\n",
        "plt.plot(x, triang.pdf(x, c_scaled, loc=a, scale=b-a), lw=2, label='Distribución teórica')\n",
        "\n",
        "\n",
        "# Mostrar la gráfica\n",
        "plt.show()"
      ],
      "metadata": {
        "id": "EEAMntvRm0V9",
        "colab": {
          "base_uri": "https://localhost:8080/",
          "height": 218
        },
        "outputId": "df1189f6-815d-4985-cf39-aa753b20aee9"
      },
      "execution_count": 9,
      "outputs": [
        {
          "output_type": "display_data",
          "data": {
            "text/plain": [
              "<Figure size 640x480 with 1 Axes>"
            ],
            "image/png": "[encoded data removed]"
          },
          "metadata": {}
        }
      ]
    },
    {
      "cell_type": "markdown",
      "source": [
        "# *Por el teorema central del límite*\n",
        "\n",
        "se cumple que:\n",
        "\n",
        "$$\n",
        "\\lim_{n \\to \\infty} P\\left(\\frac{x_1 + x_2 + \\cdots + x_n - n \\mu}{\\sigma \\sqrt{n}} < x\\right) = \\Phi(x)\n",
        "$$\n",
        "\n",
        "Para n=5 porque cargaremos el camión con 5 tinas\n",
        "\n",
        "$$\n",
        " P\\left({x_1 + x_2 + \\cdots + x_5} > 1000kg\\right)\n",
        "$$\n",
        "\n",
        "Equivalentemente tenemos que P es:\n",
        "\n",
        "$$\n",
        "P\\left({(x_1 + x_2 + \\cdots + x_5)} < 1000kg\\right) =  P\\left(\\frac{x_1 + x_2 + \\cdots + x_5}5 > 200kg\\right)\n",
        "$$\n",
        "\n",
        "Aplicando el teorema tenemos que:\n",
        "$$\n",
        "\\lim_{n \\to \\infty} P\\left(\\\n",
        "\\frac{{x_1 + x_2 + \\cdots + x_5 }}{{\\frac{{5\\sigma}}{{\\sqrt{5}}}}} < \\frac{200 - \\mu}{{\\frac{{\\sigma}}{{\\sqrt{5}}}}}\\right)\n",
        "$$\n",
        "\n",
        "Simplificando tenemos\n",
        "\n",
        "$$\n",
        "\\lim_{n \\to \\infty} P\\left(\\frac{{\\sqrt{5} (x_1 + x_2 + \\cdots + x_5)}}{5\\sigma} < \\frac{\\sqrt{5}(200 - \\mu)}{\\sigma}\\right)\n",
        "$$"
      ],
      "metadata": {
        "id": "qCHBatiK5Ysu"
      }
    },
    {
      "cell_type": "markdown",
      "source": [
        "Sustituyendo valores tenemos que:\n",
        "\n",
        "limn→∞P(2.23(x1+x2+⋯+x5)40.82<−2.74)\n",
        "\n",
        "Para z = -2.74, obtenemos el siguiente resultado:\n",
        " 0.0031\n",
        "Por lo tanto,\n",
        "\n",
        " P=1−0.0031=99.69%"
      ],
      "metadata": {
        "id": "PnbtjTR05kAp"
      }
    },
    {
      "cell_type": "markdown",
      "source": [
        "b) Por simulación."
      ],
      "metadata": {
        "id": "OI-uNssY5m6g"
      }
    },
    {
      "cell_type": "code",
      "source": [
        "\n",
        "\n",
        "numero_de_ensayos = 10000\n",
        "sumas = []\n",
        "probabilidades = []\n",
        "\n",
        "contador = 0\n",
        "\n",
        "for ensayo in range(numero_de_ensayos):\n",
        "    suma_variables = 0\n",
        "    for i in range(5):\n",
        "        U = random.uniform(0, 1)\n",
        "        if 0 <= U <= 0.5:\n",
        "            X = a + math.sqrt(U * (b - a) * (c - a))\n",
        "        else:\n",
        "            X = b - math.sqrt((1 - U) * (b - a) * (b - c))\n",
        "        suma_variables += X\n",
        "    sumas.append(suma_variables)\n",
        "\n",
        "    if suma_variables > 1000:\n",
        "        contador += 1\n",
        "\n",
        "    probabilidad_actual = contador / (ensayo + 1)  # ensayo + 1 para evitar división por cero y ajustar el índice\n",
        "    probabilidades.append(probabilidad_actual)\n",
        "\n",
        "\n",
        "\n",
        "print(\"Probabilidad final =\", probabilidades[-1])"
      ],
      "metadata": {
        "id": "SYJDyIkc5qcz",
        "outputId": "083eb72f-4e7d-47e9-dbff-979cbe1aae4a",
        "colab": {
          "base_uri": "https://localhost:8080/"
        }
      },
      "execution_count": 10,
      "outputs": [
        {
          "output_type": "stream",
          "name": "stdout",
          "text": [
            "Probabilidad final = 0.9989\n"
          ]
        }
      ]
    },
    {
      "cell_type": "markdown",
      "source": [
        "EJERCICIO 2:\n",
        "Analice la conveniencia de adquirir un nuevo camión. Para tal propósito, suponga que\n",
        "cada vez que la capacidad del camión es excedida una tina es enviada a través de otra\n",
        "compañía a un costo de $200.\n",
        "También suponga que el costo promedio anual de un\n",
        "nuevo camión es de $60,000. Si se trabaja 5 días a la semana y 52 semanas al año,\n",
        "¿cuál de las dos alternativas mencionadas es la más atractiva?"
      ],
      "metadata": {
        "id": "ZNS2sbhA51jr"
      }
    },
    {
      "cell_type": "markdown",
      "source": [
        " **a)Solución analítica**\n",
        "\n",
        "Calculamos los dias trabajados al año:\n",
        "\n",
        "\n",
        "1.   5 dias x semana de trabajo\n",
        "2.   Hay 52 semanas al año\n",
        "\n",
        "\n",
        "\n",
        "$$\n",
        "5 \\times 52 = 260 \\ \\text{días de trabajo por año}\n",
        "$$\n",
        "\n",
        "Entonces, sabemos que la probabilidad de que se exceda la capacidad del camion es de 99.66 % por lo tanto, podemos definir lo siguiente:\n",
        "\n",
        "$$\n",
        "\\ 260 { \\text{ días}} = 100\\%\n",
        "$$\n",
        "\n",
        "$$\n",
        "\\ x{\\text{ días}} = 99.66\\%\n",
        "$$\n",
        "\n",
        "por lo tanto, $$ x= 259{\\text{ días}}$$\n",
        "\n",
        "Hagamos una comparación de las dos opciones disponibles\n",
        "\n",
        "\n",
        "1.   Envio mediante alquiler:\n",
        "$$ Costo= $200*259{\\text{ días}}$$\n",
        "$$ Costo= $51,800$$\n",
        "\n",
        "Vemos que nos es más barato el enviar el exceso de peso mediante otra compañia que el comprar una nueva unidad de carga"
      ],
      "metadata": {
        "id": "6tbyHckF582D"
      }
    },
    {
      "cell_type": "markdown",
      "source": [
        "b) Por Simulación"
      ],
      "metadata": {
        "id": "f7eELwe86HH0"
      }
    },
    {
      "cell_type": "code",
      "source": [
        "\n",
        "# Consideraciones\n",
        "dias_trabajo_anual = 260\n",
        "costo_exceso = 200\n",
        "costo_camion = 60000\n",
        "\n",
        "contador = 0\n",
        "costo_total_exceso = 0\n",
        "costo_total_camion = 0\n",
        "\n",
        "probabilidades = []\n",
        "costos_exceso = []\n",
        "\n",
        "for ensayo in range(numero_de_ensayos):\n",
        "    suma_variables = 0\n",
        "    for i in range(5):\n",
        "        U = random.uniform(0, 1)\n",
        "        if 0 <= U <= 0.5:\n",
        "            X = a + math.sqrt(U * (b - a) * (c - a))\n",
        "        else:\n",
        "            X = b - math.sqrt((1 - U) * (b - a) * (b - c))\n",
        "        suma_variables += X\n",
        "    sumas.append(suma_variables)\n",
        "    if suma_variables > 1000:\n",
        "        contador += 1\n",
        "        costo_total_exceso += costo_exceso * dias_trabajo_anual\n",
        "\n",
        "    probabilidad_actual = contador / (ensayo + 1)\n",
        "    probabilidades.append(probabilidad_actual)\n",
        "\n",
        "    costo_promedio_exceso = costo_total_exceso / (ensayo + 1)\n",
        "    costos_exceso.append(costo_promedio_exceso)\n",
        "\n",
        "\n",
        "print(\"Probabilidad final =\", probabilidades[-1])\n",
        "print(\"Costo promedio del exceso de capacidad =\", costos_exceso[-1])\n",
        "print(\"Costo promedio de comprar un nuevo camión =\", costo_camion)\n",
        "# Conclusión\n",
        "if costo_promedio_exceso < costo_camion:\n",
        "    print(\"Enviar el exceso de peso mediante otra compañía es más barato.\")\n",
        "else:\n",
        "    print(\"Comprar una nueva unidad de carga es más barato.\")"
      ],
      "metadata": {
        "id": "TI0HgdnI6Myc",
        "outputId": "44ea6e55-a3c0-4abe-d7da-41eb522b2713",
        "colab": {
          "base_uri": "https://localhost:8080/"
        }
      },
      "execution_count": 11,
      "outputs": [
        {
          "output_type": "stream",
          "name": "stdout",
          "text": [
            "Probabilidad final = 0.998\n",
            "Costo promedio del exceso de capacidad = 51896.0\n",
            "Costo promedio de comprar un nuevo camión = 60000\n",
            "Enviar el exceso de peso mediante otra compañía es más barato.\n"
          ]
        }
      ]
    }
  ]
}