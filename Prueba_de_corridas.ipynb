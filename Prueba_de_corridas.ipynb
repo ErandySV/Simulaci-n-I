{
  "nbformat": 4,
  "nbformat_minor": 0,
  "metadata": {
    "colab": {
      "provenance": [],
      "authorship_tag": "ABX9TyNTfFeW2uxnjwf/cX1lFHP2",
      "include_colab_link": true
    },
    "kernelspec": {
      "name": "python3",
      "display_name": "Python 3"
    },
    "language_info": {
      "name": "python"
    }
  },
  "cells": [
    {
      "cell_type": "markdown",
      "metadata": {
        "id": "view-in-github",
        "colab_type": "text"
      },
      "source": [
        "<a href=\"https://colab.research.google.com/github/ErandySV/Simulaci-n-I/blob/main/Prueba_de_corridas.ipynb\" target=\"_parent\"><img src=\"https://colab.research.google.com/assets/colab-badge.svg\" alt=\"Open In Colab\"/></a>"
      ]
    },
    {
      "cell_type": "code",
      "execution_count": null,
      "metadata": {
        "id": "O-ltCc9_wGNP"
      },
      "outputs": [],
      "source": []
    },
    {
      "cell_type": "markdown",
      "source": [
        "Prueba de corrida"
      ],
      "metadata": {
        "id": "qXZqsZqpwL8K"
      }
    },
    {
      "cell_type": "markdown",
      "source": [
        "Es una prueba de independencia, evalua si una secuencia de datos sigue un patrón aleatorio o algún tipo de tendencia."
      ],
      "metadata": {
        "id": "ltoHvwY-wP40"
      }
    },
    {
      "cell_type": "markdown",
      "source": [
        "PASO 1. Determinar una secuencia de 1 si X_i<= X_i+1, en caso contrario colocar 0"
      ],
      "metadata": {
        "id": "ZihhE2fHwTjg"
      }
    },
    {
      "cell_type": "markdown",
      "source": [
        "PASO 2. Hallar en número de rachas o corridas observadas"
      ],
      "metadata": {
        "id": "ZKZ6akAYw74c"
      }
    },
    {
      "cell_type": "markdown",
      "source": [
        "PASO 3. Calcular el valor esperado y la varianza del número de corridas, asi como el estadistica Z_0"
      ],
      "metadata": {
        "id": "hoq3sbuzxBoC"
      }
    },
    {
      "cell_type": "markdown",
      "source": [
        "**M_co=(2n-1)/3 ;  sigma_co^2=(16n-29)/90  ; Z_0=(C_o-M_co)/sigmaCo**"
      ],
      "metadata": {
        "id": "LXOCfgYxxLE2"
      }
    },
    {
      "cell_type": "markdown",
      "source": [
        "El intervalo de aceptación es: -z_(alpha/2) <= Z_0 <= +z_(alpha/2)\n",
        "*Si este intervalo se cumple aceptamos la hipotesis*"
      ],
      "metadata": {
        "id": "h6IrziKnyszN"
      }
    },
    {
      "cell_type": "code",
      "source": [
        "import numpy as np\n",
        "import pandas as pd\n",
        "import math\n",
        "from scipy.stats import norm\n",
        "valores = [\n",
        "    0.048, 0.591, 0.478, 0.166, 0.932,\n",
        "    0.926, 0.007, 0.551, 0.362, 0.533,\n",
        "    0.368, 0.437, 0.178, 0.411, 0.545,\n",
        "    0.787, 0.594, 0.086, 0.951, 0.772,\n",
        "    0.298, 0.199, 0.157, 0.401, 0.631\n",
        "]\n",
        "\n",
        "n = len(valores)\n",
        "\n",
        "# secuencia de 1 y 0\n",
        "def determinar_secuencia(valores):\n",
        "    secuencia = [1 if valores[i] <= valores[i+1] else 0 for i in range(len(valores)-1)]\n",
        "    return secuencia\n",
        "\n",
        "#  número de rachas observadas\n",
        "def contar_rachas(secuencia):\n",
        "    num_rachas = 1 # Para que tome el primer número\n",
        "    for i in range(1, len(secuencia)):\n",
        "        if secuencia[i] != secuencia[i-1]:\n",
        "            num_rachas += 1\n",
        "    return num_rachas\n",
        "\n",
        "# valor esperado, varianza y  Z_0\n",
        "def calcular_estadistica(num_rachas, n):\n",
        "    M_co = (2*n - 1) / 3\n",
        "    sigma_co = (16*n - 29) / 90\n",
        "    sqrt_sigma = math.sqrt(sigma_co)\n",
        "    Z_0 = (num_rachas - M_co) / np.sqrt(sigma_co_sq)\n",
        "    return M_co, sigma_co_sq, Z_0\n",
        "\n",
        "\n",
        "secuencia = determinar_secuencia(valores)\n",
        "\n",
        "rachas = contar_rachas(secuencia)\n",
        "\n",
        "M_co, sigma_co_sq, Z_0 = calcular_estadistica(rachas, n)\n",
        "\n",
        "# Tabular resultados\n",
        "df = pd.DataFrame({\n",
        "    'Iteración': np.arange(1, n),\n",
        "    'Valor': valores[:-1],  # Excluyendo el último valor para la secuencia\n",
        "    'Secuencia': secuencia,\n",
        "})\n",
        "print(\"Tabla de Iteraciones:\")\n",
        "print(df)\n",
        "\n",
        "# Resultados\n",
        "print(\"\\nNúmero de rachas:\", rachas)\n",
        "print(\"Valor esperado  (M_co):\", M_co)\n",
        "print(\"Varianza  (sigma_co^2):\", sigma_co_sq)\n",
        "print(\"Desviación estandar: \", sqrt_sigma)\n",
        "print(\" Z_0:\", Z_0)\n",
        "\n",
        "# Declarar nivel de aceptación\n",
        "alpha = 0.05 # Nivel de significancia\n",
        "z_alpha_2 = norm.ppf(1 - alpha/2)\n",
        "N_aceptacion = (-z_alpha_2, z_alpha_2)\n",
        "print(\"Nivel de aceptación:\", N_aceptacion)\n",
        "\n",
        "# Aceptar o rechazar hipotesis nula\n",
        "if intervalo_aceptacion[0] <= Z_0 <= intervalo_aceptacion[1]:\n",
        "    print(\"Se acepta la hipótesis nula\")\n",
        "else:\n",
        "    print(\"Se rechaza la hipótesis nula\")"
      ],
      "metadata": {
        "colab": {
          "base_uri": "https://localhost:8080/"
        },
        "id": "PcKFFbMTzu3_",
        "outputId": "5fa9e646-380f-4884-ca04-4be7f20f2264"
      },
      "execution_count": 24,
      "outputs": [
        {
          "output_type": "stream",
          "name": "stdout",
          "text": [
            "Tabla de Iteraciones:\n",
            "    Iteración  Valor  Secuencia\n",
            "0           1  0.048          1\n",
            "1           2  0.591          0\n",
            "2           3  0.478          0\n",
            "3           4  0.166          1\n",
            "4           5  0.932          0\n",
            "5           6  0.926          0\n",
            "6           7  0.007          1\n",
            "7           8  0.551          0\n",
            "8           9  0.362          1\n",
            "9          10  0.533          0\n",
            "10         11  0.368          1\n",
            "11         12  0.437          0\n",
            "12         13  0.178          1\n",
            "13         14  0.411          1\n",
            "14         15  0.545          1\n",
            "15         16  0.787          0\n",
            "16         17  0.594          0\n",
            "17         18  0.086          1\n",
            "18         19  0.951          0\n",
            "19         20  0.772          0\n",
            "20         21  0.298          0\n",
            "21         22  0.199          0\n",
            "22         23  0.157          1\n",
            "23         24  0.401          1\n",
            "\n",
            "Número de rachas: 15\n",
            "Valor esperado  (M_co): 16.333333333333332\n",
            "Varianza  (sigma_co^2): 4.122222222222222\n",
            "Desviación estandar:  2.030325644378808\n",
            " Z_0: -0.6567091033031179\n",
            "Nivel de aceptación: (-1.959963984540054, 1.959963984540054)\n",
            "Se acepta la hipótesis nula\n"
          ]
        }
      ]
    },
    {
      "cell_type": "markdown",
      "source": [
        "En conclusión la prueba de corridas proporciona información sobre la aleatoriedad de una secuencia de datos y puede ayudar a tomar decisiones sobre su validez y utilidad para análisis posteriores."
      ],
      "metadata": {
        "id": "GH7bxP3N56Tb"
      }
    }
  ]
}