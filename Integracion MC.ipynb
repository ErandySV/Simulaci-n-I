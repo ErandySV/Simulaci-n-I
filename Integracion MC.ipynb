{
  "nbformat": 4,
  "nbformat_minor": 0,
  "metadata": {
    "colab": {
      "provenance": [],
      "authorship_tag": "ABX9TyNQhDzh298AhmAb07XGiV60",
      "include_colab_link": true
    },
    "kernelspec": {
      "name": "python3",
      "display_name": "Python 3"
    },
    "language_info": {
      "name": "python"
    }
  },
  "cells": [
    {
      "cell_type": "markdown",
      "metadata": {
        "id": "view-in-github",
        "colab_type": "text"
      },
      "source": [
        "<a href=\"https://colab.research.google.com/github/ErandySV/Simulaci-n-I/blob/main/Integracion%20MC.ipynb\" target=\"_parent\"><img src=\"https://colab.research.google.com/assets/colab-badge.svg\" alt=\"Open In Colab\"/></a>"
      ]
    },
    {
      "cell_type": "markdown",
      "source": [
        "Conocemos la idea central del método de monte carlo, si deseamos calcular la integral $I=\\int_{a}^{b} g(x) dx$ para alcuna función $g(x)$ dificil de integrar analiticamente se realiza una sustitución:\\\\\n",
        "\n",
        "$I=\\int_{a}^{b} g(x) dx=\\int_{a}^{b} w(x)f(x) dx$\\\\\n",
        "con $w(x)=g(x)(b-a)$ y $f(x)=\\frac{1}{b-a}$\\\\\n",
        "\n",
        "La integral transformada se interpreta como el múltiplo del valor esperado de $g(x)$ bajo la siguiente distribución uniforme:\\\\\n",
        "\n",
        "$E(g(x))=\\frac{I}{b-a}$ con $X~U(a,b)$\\\\\n",
        "\n",
        "\n",
        "Se toma una muestra uniforme, por ejemplo:\\\\\n",
        "\n",
        "digamos $X_1,... X_N~ U(a.b)$ por la ley de los grandes números, para un N suficientemente grande se interpreta la probabilidad \\\\\n",
        "$\\frac{1}{N} ∑_{i=1}^{N} g(x_i) \\rightarrow E(g(x))=\\frac{I}{b-a} $\n",
        "\n",
        "Retomando el ejercicio dejado \\\\\n",
        "$\\int_{0}^{1} (\\sqrt{arctan(x)})dx$ \\\\\n",
        "\n",
        "La $I=\\int_{a}^{b} g(x) dx=\\int_{a}^{b} w(x)f(x) dx$\\\\\n",
        "\n",
        "Quedaría como $I=\\frac{1}{N} { g(u_i)+...+g(b_n)} dx$\\\\\n",
        "\n",
        "Calculamos g(u_i) tomando valores pseudoaleatorios\n",
        "\n",
        "Se tiene luego $\\;\\;E(g(x))=\\frac{I}{b-a} \\hspace{5mm} ⇒ \\hspace{5mm} I=(b-a)E(g(x))$  \n",
        "\n",
        "Por lo tanto, se tiene el estimador insesgado $\\theta_1=(b-a)\\frac{1}{n}\\sum_{i=1}^ng(x)\\approx(b-a)E(g(x))= I$\n",
        "\n"
      ],
      "metadata": {
        "id": "DoOOiqxLcP96"
      }
    },
    {
      "cell_type": "code",
      "execution_count": 1,
      "metadata": {
        "id": "8w4HCQwLcOVy"
      },
      "outputs": [],
      "source": [
        "import random as rnd\n",
        "import numpy as np\n",
        "import matplotlib.pyplot as plt"
      ]
    },
    {
      "cell_type": "code",
      "source": [
        "def g(x):       #Esta función calcula las funciones gi(x) y las guarad en una lista\n",
        "  g_i=np.sqrt(np.arctan(x))\n",
        "  return g_i"
      ],
      "metadata": {
        "id": "0LnHcHSSidDb"
      },
      "execution_count": 2,
      "outputs": []
    },
    {
      "cell_type": "code",
      "source": [
        "def exp(n,a,b):\n",
        "  Ui=np.random.uniform(0, 1, n)       #Genera n variables ~ U(0,1)\n",
        "  Xi=a+Ui*(b-a)                       #Calcula lista de Xi\n",
        "  g_i=g(Xi)                           #Calcula lista de g(Xi)\n",
        "  I=(b-a)/n*np.sum(g_i)               #Calcula aproximación\n",
        "\n",
        "  return I"
      ],
      "metadata": {
        "id": "Br5pjECKifLB"
      },
      "execution_count": 3,
      "outputs": []
    },
    {
      "cell_type": "code",
      "source": [
        "def histograma(aprox):                                  #Esta función imprime la estimación y el histograma\n",
        "  plt.hist(aprox, bins=25, color='blue', alpha=0.7)\n",
        "  #media\n",
        "  plt.axvline(np.mean(aprox))\n",
        "  #Intervalo de confianza\n",
        "  plt.axvline(np.mean(aprox)-np.std(aprox), color='green')\n",
        "  plt.axvline(np.mean(aprox)+np.std(aprox), color='green')\n",
        "  plt.legend()\n",
        "\n",
        "  return"
      ],
      "metadata": {
        "id": "izXP6hEiikMA"
      },
      "execution_count": 15,
      "outputs": []
    },
    {
      "cell_type": "code",
      "source": [
        "#Simulacion\n",
        "\n",
        "#Parametros\n",
        "m=1000        #Número de iteraciones\n",
        "n=50           #Tamaño de la experimentos\n",
        "a=0             #Límite inferior de la integral\n",
        "b=1             #Límite superior de la integral\n",
        "\n",
        "aprox=[]\n",
        "for i in range(m):\n",
        "  aprox.append(exp(n,a,b))\n",
        "\n",
        "histograma(aprox)"
      ],
      "metadata": {
        "colab": {
          "base_uri": "https://localhost:8080/",
          "height": 468
        },
        "id": "ftDwTz22invU",
        "outputId": "2cd6259f-0e1f-4f43-c7cb-e2009fbe75e2"
      },
      "execution_count": 16,
      "outputs": [
        {
          "output_type": "stream",
          "name": "stderr",
          "text": [
            "WARNING:matplotlib.legend:No artists with labels found to put in legend.  Note that artists whose label start with an underscore are ignored when legend() is called with no argument.\n"
          ]
        },
        {
          "output_type": "display_data",
          "data": {
            "text/plain": [
              "<Figure size 640x480 with 1 Axes>"
            ],
            "image/png": "[encoded data removed]"
          },
          "metadata": {}
        }
      ]
    },
    {
      "cell_type": "markdown",
      "source": [
        "Por el método de acierto y error evaluaremos esta misma integral para poder comparar ambos métodos"
      ],
      "metadata": {
        "id": "CN4V3BdVjHZe"
      }
    },
    {
      "cell_type": "code",
      "source": [
        " #Declaramos una función  función calcular los  gi(x_i)\n",
        " def g(x):\n",
        "  g_i=np.sqrt(np.arctan(x)) #Función a evaluar\n",
        "  return g_i"
      ],
      "metadata": {
        "id": "9GCU2hnSkKqc"
      },
      "execution_count": 9,
      "outputs": []
    },
    {
      "cell_type": "markdown",
      "source": [
        "Declaramos la función que realizara la \"selección\""
      ],
      "metadata": {
        "id": "ea8ndVpZlm-T"
      }
    },
    {
      "cell_type": "code",
      "source": [
        "def aceptacion_rechazo(n,Ui,g_i,a,b,c):\n",
        "  aciertos=0\n",
        "  for i in range(n):\n",
        "     #Aplicamos condiciones de aceptación yy rechazo\n",
        "    if c*Ui[i-1] < g_i[i-1]:\n",
        "      aciertos+=1\n",
        "       #Calculamos  la estimación\n",
        "  I=c*(b-a)*aciertos/n\n",
        "\n",
        "  return I"
      ],
      "metadata": {
        "id": "EEAbSJ6GkN-a"
      },
      "execution_count": 19,
      "outputs": []
    },
    {
      "cell_type": "code",
      "source": [
        "def exp(n,a,b,c):\n",
        "  #Generamos los números aleatorios\n",
        "  Ui1=np.random.uniform(0, 1, n)\n",
        "  Ui2=np.random.uniform(0, 1, n)\n",
        "\n",
        "  Xi=a+Ui1*(b-a)\n",
        "  g_i=g(Xi)\n",
        "\n",
        "  I=aceptacion_rechazo(n,Ui2,g_i,a,b,c)\n",
        "\n",
        "  return I"
      ],
      "metadata": {
        "id": "9pt9DpRFkSbB"
      },
      "execution_count": 20,
      "outputs": []
    },
    {
      "cell_type": "markdown",
      "source": [
        "Realizamos el histograma para la mejor observación de ambos métodos"
      ],
      "metadata": {
        "id": "Be0cjuYSlKx7"
      }
    },
    {
      "cell_type": "code",
      "source": [
        "def histograma(aprox):\n",
        "  plt.hist(aprox, bins=25, color='green', alpha=0.7)\n",
        "  #Media\n",
        "  plt.axvline(np.mean(aprox))\n",
        "\n",
        "  plt.legend()\n",
        "  print('Estimación: ', np.mean(aprox))\n",
        "  return"
      ],
      "metadata": {
        "id": "hHtKC1FwkTOB"
      },
      "execution_count": 21,
      "outputs": []
    },
    {
      "cell_type": "markdown",
      "source": [
        "Realizamos el experimento con los mismos valores que en el método anterior"
      ],
      "metadata": {
        "id": "Ecen6pdElbfP"
      }
    },
    {
      "cell_type": "code",
      "source": [
        "m=1000                          #Número de iteraciones\n",
        "n=50                            #Tamaño de la experimentos\n",
        "#Límites de la integral\n",
        "a=0\n",
        "b=1\n",
        "c=np.sqrt(np.arctan(1))\n",
        "aprox=[]\n",
        "\n",
        "for i in range(m):\n",
        "  aprox.append(exp(n,a,b,c))\n",
        "\n",
        "histograma(aprox)"
      ],
      "metadata": {
        "colab": {
          "base_uri": "https://localhost:8080/",
          "height": 487
        },
        "id": "bTmp2XcukYt8",
        "outputId": "bbc06feb-c62a-46d0-80c5-1b477b0bdb6b"
      },
      "execution_count": 22,
      "outputs": [
        {
          "output_type": "stream",
          "name": "stderr",
          "text": [
            "WARNING:matplotlib.legend:No artists with labels found to put in legend.  Note that artists whose label start with an underscore are ignored when legend() is called with no argument.\n"
          ]
        },
        {
          "output_type": "stream",
          "name": "stdout",
          "text": [
            "Estimación:  0.6293097397640033\n"
          ]
        },
        {
          "output_type": "display_data",
          "data": {
            "text/plain": [
              "<Figure size 640x480 with 1 Axes>"
            ],
            "image/png": "[encoded data removed]"
          },
          "metadata": {}
        }
      ]
    },
    {
      "cell_type": "markdown",
      "source": [
        "En resumen, el método de la media muestral es preferible al método de \"acierto y error\" para la aproximación numérica de integrales, incluyendo la integral evaluada  debido a su mayor rigor matemático, control de precisión y capacidad para manejar funciones complejas."
      ],
      "metadata": {
        "id": "5_YnTOhDmgXJ"
      }
    },
    {
      "cell_type": "markdown",
      "source": [
        "El método de la media muestral es más riguroso y sistemático que el método de \"acierto y error\".\\\\\n",
        "\n",
        " Proporciona una estimación cuantitativa más precisa y controlada del valor de la integral.\n",
        "\n",
        "Es particularmente útil cuando se desea una aproximación numérica precisa y se dispone de recursos computacionales para generar un número suficiente de muestras aleatorias."
      ],
      "metadata": {
        "id": "puKdeON4nGr8"
      }
    },
    {
      "cell_type": "code",
      "source": [],
      "metadata": {
        "id": "lxL-4e9iionz"
      },
      "execution_count": null,
      "outputs": []
    }
  ]
}