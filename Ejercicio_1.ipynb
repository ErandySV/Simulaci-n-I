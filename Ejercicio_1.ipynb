{
  "nbformat": 4,
  "nbformat_minor": 0,
  "metadata": {
    "colab": {
      "provenance": [],
      "authorship_tag": "ABX9TyOaDdAqWCi3CH5rZfonDiqN",
      "include_colab_link": true
    },
    "kernelspec": {
      "name": "python3",
      "display_name": "Python 3"
    },
    "language_info": {
      "name": "python"
    }
  },
  "cells": [
    {
      "cell_type": "markdown",
      "metadata": {
        "id": "view-in-github",
        "colab_type": "text"
      },
      "source": [
        "<a href=\"https://colab.research.google.com/github/ErandySV/Simulaci-n-I/blob/main/Ejercicio_1.ipynb\" target=\"_parent\"><img src=\"https://colab.research.google.com/assets/colab-badge.svg\" alt=\"Open In Colab\"/></a>"
      ]
    },
    {
      "cell_type": "markdown",
      "source": [
        "1. Determine el ciclo o periodo de vida de los siguientes generadores congruenciales\n",
        "\n",
        "\n",
        "a)  $X_{j+1}=(21_{x_j}+15) mod (31)$ con $x_0=21$\n",
        "\n",
        "b)  $X_{j+1}=(13_{x_j}+9) mod (128)$ con $x_0=7$\n",
        "\n",
        "c)  $X_{j+1}=(17_{x_j}) mod (31)$ con $x_0=23$\n",
        "\n",
        "d)  $X_{j+1}=({x_j}+121) mod (256)$ con $x_0=17$\n",
        "\n",
        "e)  $X_{j+1}=(21_{x_j}+15_{x_{j-1}}) mod (31)$ con $x_0=21$ y $x_j=43$\n",
        "\n",
        "\n",
        "\n"
      ],
      "metadata": {
        "id": "dRo7s2_P5_iP"
      }
    },
    {
      "cell_type": "code",
      "execution_count": null,
      "metadata": {
        "id": "O-ltCc9_wGNP"
      },
      "outputs": [],
      "source": []
    },
    {
      "cell_type": "markdown",
      "source": [
        "Para determinar el ciclo o periodo de vida de los generadores congruenciales dados iteraremos las secuencias generadas hasta que se repita un valor.\n",
        "\n",
        " (a) $ x_{j+1} = (21 x_j + 15) \\mod 31  con  x_0 = 21 $\n",
        "\n",
        "\n",
        "\n",
        "$x_0 = 21 $\n",
        "$x_1 = (21 \\cdot 21 + 15) \\mod 31 = 459 \\mod 31 = 24 $\n",
        "$x_2 = (21 \\cdot 24 + 15) \\mod 31 = 519 \\mod 31 = 22$\n",
        "$x_3 = (21 \\cdot 22 + 15) \\mod 31 = 477 \\mod 31 = 11 $\n",
        "$x_4 = (21 \\cdot 11 + 15) \\mod 31 = 246 \\mod 31 = 30 $\n",
        "$x_5 = (21 \\cdot 30 + 15) \\mod 31 = 645 \\mod 31 = 25 $\n",
        "$x_6 = (21 \\cdot 25 + 15) \\mod 31 = 540 \\mod 31 = 14 $\n",
        "$x_7 = (21 \\cdot 14 + 15) \\mod 31 = 309 \\mod 31 = 30 $\n",
        "$x_8 = x_4 = 30$\n",
        "\n",
        "El periodo es 4\n",
        "\n",
        "b)  $X_{j+1}=(13_{x_j}+9) mod (128)$ con $x_0=7$\n",
        "\n",
        "$x_0 = 7 $\n",
        "$x_1 = (13 \\cdot 7 + 9) \\mod 128 = 100 \\mod 128 = 100 $\n",
        "$x_2 = (13 \\cdot 100 + 9) \\mod 128 = 1309 \\mod 128 = 25 $\n",
        "$x_3 = (13 \\cdot 25 + 9) \\mod 128 = 334 \\mod 128 = 78 $\n",
        "$x_4 = (13 \\cdot 78 + 9) \\mod 128 = 1013 \\mod 128 = 125 $\n",
        "$x_5 = (13 \\cdot 125 + 9) \\mod 128 = 1634 \\mod 128 = 98 $\n",
        "$x_6 = (13 \\cdot 98 + 9) \\mod 128 = 1283 \\mod 128 = 11 $\n",
        "$x_7 = (13 \\cdot 11 + 9) \\mod 128 = 152 \\mod 128 = 24 $\n",
        "$x_8 = (13 \\cdot 24 + 9) \\mod 128 = 321 \\mod 128 = 65 $\n",
        "$x_9 = (13 \\cdot 65 + 9) \\mod 128 = 854 \\mod 128 = 86 $\n",
        "$x_{10} = (13 \\cdot 86 + 9) \\mod 128 = 1127 \\mod 128 = 103 $\n",
        "$x_{11} = (13 \\cdot 103 + 9) \\mod 128 = 1348 \\mod 128 = 68 $\n",
        "$x_{12} = (13 \\cdot 68 + 9) \\mod 128 = 893 \\mod 128 = 125 $\n",
        "\n",
        "El periodo es 12\n",
        "\n",
        "c)  $X_{j+1}=(17_{x_j}) mod (31)$ con $x_0=23$\n",
        "\n",
        "\n",
        "$x_0 = 23 $\n",
        "$x_1 = (17 \\cdot 23) \\mod 31 = 391 \\mod 31 = 19 $\n",
        "$x_2 = (17 \\cdot 19) \\mod 31 = 323 \\mod 31 = 13 $\n",
        "$x_3 = (17 \\cdot 13) \\mod 31 = 221 \\mod 31 = 4 $\n",
        "$x_4 = (17 \\cdot 4) \\mod 31 = 68 \\mod 31 = 6 $\n",
        "$x_5 = (17 \\cdot 6) \\mod 31 = 102 \\mod 31 = 9 $\n",
        "$x_6 = (17 \\cdot 9) \\mod 31 = 153 \\mod 31 = 28 $\n",
        "$x_7 = (17 \\cdot 28) \\mod 31 = 476 \\mod 31 = 10 $\n",
        "$x_8 = (17 \\cdot 10) \\mod 31 = 170 \\mod 31 = 15 $\n",
        "$x_9 = (17 \\cdot 15) \\mod 31 = 255 \\mod 31 = 7 $\n",
        "$x_{10} = (17 \\cdot 7) \\mod 31 = 119 \\mod 31 = 26 $\n",
        "$x_{11} = (17 \\cdot 26) \\mod 31 = 442 \\mod 31 = 8 $\n",
        "$x_{12} = (17 \\cdot 8) \\mod 31 = 136 \\mod 31 = 12 $\n",
        "$x_{13} = (17 \\cdot 12) \\mod 31 = 204 \\mod 31 = 18 $\n",
        "$x_{14} = (17 \\cdot 18) \\mod 31 = 306 \\mod 31 = 27 $\n",
        "$x_{15} = (17 \\cdot 27) \\mod 31 = 459 \\mod 31 = 24 $\n",
        "$x_{16} = (17 \\cdot 24) \\mod 31 = 408 \\mod 31 = 5 $\n",
        "$x_{17} = (17 \\cdot 5) \\mod 31 = 85 \\mod 31 = 23 $\n",
        "El periodo es 18\n",
        "\n",
        "d)  $X_{j+1}=({x_j}+121) mod (256)$ con $x_0=17$\n",
        "\n",
        "$x_0 = 17 $\n",
        "$x_1 = (121 + 17) \\mod 256 = 138 $\n",
        "$x_2 = (121 + 138) \\mod 256 = 259 \\mod 256 = 3 $\n",
        "$x_3 = (121 + 3) \\mod 256 = 124 $\n",
        "$x_4 = (121 + 124) \\mod 256 = 245 $\n",
        "$x_5 = (121 + 245) \\mod 256 = 366 \\mod 256 = 110 $\n",
        "$x_6 = (121 + 110) \\mod 256 = 231 $\n",
        "$x_7 = (121 + 231) \\mod 256 = 352 \\mod 256 = 96 $\n",
        "$x_8 = (121 + 96) \\mod 256 = 217 $\n",
        "$x_9 = (121 + 217) \\mod 256 = 338 \\mod 256 = 82$\n",
        "$x_{10} = (121 + 82) \\mod 256 = 203$\n",
        "$x_{11} = (121 + 203) \\mod 256 = 324 \\mod 256 = 68 $\n",
        "$x_{12} = (121 + 68) \\mod 256 = 189 $\n",
        "$x_{13} = (121 + 189) \\mod 256 = 310 \\mod 256 = 54$\n",
        "$x_{14} = (121 + 54) \\mod 256 = 175 $\n",
        "$x_{15} = (121 + 175) \\mod 256 = 296 \\mod 256 = 40 $\n",
        "$x_{16} = (121 + 40) \\mod 256 = 161 $\n",
        "$x_{17} = (121 + 161) \\mod 256 = 282 \\mod 256 = 26 $\n",
        "$x_{18} = (121 + 26) \\mod 256 = 147 $\n",
        "$x_{19} = (121 + 147) \\mod 256 = 268 \\mod 256 = 12 $\n",
        "$x_{20} = (121 + 12) \\mod 256 = 133 $\n",
        "$x_{21} = (121 + 133) \\mod 256 = 254 $\n",
        "$x_{22} = (121 + 254) \\mod 256 = 375 \\mod 256 = 119 $\n",
        "$x_{23} = (121 + 119) \\mod 256 = 240 $\n",
        "$x_{24} = (121 + 240) \\mod 256 = 361 \\mod 256 = 105 $\n",
        "$x_{25} = (121 + 105) \\mod 256 = 226$\n",
        "$x_{26} = (121 + 226) \\mod 256 =91$\n",
        "...\n",
        "\n",
        "\n",
        "e)  $X_{j+1}=(21_{x_j}+15_{x_{j-1}}) mod (31)$ con $x_0=21$ y $x_j=43$\n",
        "\n",
        "$x_0 = 21$ \\\\\n",
        "$x_1 = 43$ \\\\\n",
        "$x_2 = (21 \\cdot 43 + 15 \\cdot 21) \\mod 64 = 2$ \\\\\n",
        "$x_3 = (21 \\cdot 2 + 15 \\cdot 43) \\mod 64 = 9$ \\\\\n",
        "$x_4 = (21 \\cdot 9 + 15 \\cdot 2) \\mod 64 = 33$ \\\\\n",
        "$x_5 = (21 \\cdot 33 + 15 \\cdot 9) \\mod 64 = 0$ \\\\\n",
        "$x_6 = (21 \\cdot 0 + 15 \\cdot 33) \\mod 64 = 47$ \\\\\n",
        "$x_7 = (21 \\cdot 47 + 15 \\cdot 0) \\mod 64 = 23$ \\\\\n",
        "$x_8 = (21 \\cdot 23 + 15 \\cdot 47) \\mod 64 = 36$ \\\\\n",
        "$x_9 = (21 \\cdot 36 + 15 \\cdot 23) \\mod 64 = 19$ \\\\\n",
        "$x_{10} = (21 \\cdot 19 + 15 \\cdot 36) \\mod 64 = 17$ \\\\\n",
        "$x_{11} = (21 \\cdot 17 + 15 \\cdot 19) \\mod 64 = 56$ \\\\\n",
        "$x_{12} = (21 \\cdot 56 + 15 \\cdot 17) \\mod 64 = 17$ \\\\\n",
        "$x_{13} = (21 \\cdot 17 + 15 \\cdot 56) \\mod 64 = 25$ \\\\\n",
        "$x_{14} = (21 \\cdot 25 + 15 \\cdot 17) \\mod 64 = 48$ \\\\\n",
        "$x_{15} = (21 \\cdot 48 + 15 \\cdot 25) \\mod 64 = 45$ \\\\\n",
        "$x_{16} = (21 \\cdot 45 + 15 \\cdot 48) \\mod 64 = 18$ \\\\\n",
        "$x_{17} = (21 \\cdot 18 + 15 \\cdot 45) \\mod 64 = 55$ \\\\\n",
        "$x_{18} = (21 \\cdot 55 + 15 \\cdot 18) \\mod 64 = 42$ \\\\\n",
        "$x_{19} = (21 \\cdot 42 + 15 \\cdot 55) \\mod 64 = 25$ \\\\\n",
        "$x_{20} = (21 \\cdot 25 + 15 \\cdot 42) \\mod 64 = 3$ \\\\\n",
        "$x_{21} = (21 \\cdot 3 + 15 \\cdot 25) \\mod 64 = 22$ \\\\\n",
        "$x_{22} = (21 \\cdot 22 + 15 \\cdot 3) \\mod 64 = 27$ \\\\\n",
        "$x_{23} = (21 \\cdot 27 + 15 \\cdot 22) \\mod 64 = 51$ \\\\\n",
        "$x_{24} = (21 \\cdot 51 + 15 \\cdot 27) \\mod 64 = 22$ \\\\\n",
        "$x_{25} = (21 \\cdot 22 + 15 \\cdot 51) \\mod 64 = 49$ \\\\\n",
        "$x_{26} = (21 \\cdot 49 + 15 \\cdot 22) \\mod 64 = 55$ \\\\\n",
        "$x_{27} = (21 \\cdot 55 + 15 \\cdot 49) \\mod 64 = 10$ \\\\\n",
        "$x_{28} = (21 \\cdot 10 + 15 \\cdot 55) \\mod 64 = 21$ \\\\\n",
        "$x_{29} = (21 \\cdot 21 + 15 \\cdot 10) \\mod 64 = 43$ \\\\\n",
        "$x_{30} = (21 \\cdot 43 + 15 \\cdot 21) \\mod 64 = 2$ \\\\\n",
        "\n",
        "El periodo es 30  \\\\"
      ],
      "metadata": {
        "id": "Hf1D7MEe-DuT"
      }
    },
    {
      "cell_type": "markdown",
      "source": [
        "2. Escriba los pasos de la rueba de bondad de ajuste\n",
        "\n",
        "\n",
        "1.   Formular hipotesis nula y alternativa\n",
        "H_0 ⟶Nula, no hay diferencia entre frecuencias observadas y esperada\n",
        "H_a ⟶Hay diferencia entre frecuencias observadas y esperada\n",
        "2.   Nivel de significancia\n",
        "3.   Estafistico de prueba\n",
        "$x^2=∑[\\frac{(f_0 -f_e)^2}{f_e }]$ \\\\\n",
        "grado de libertad $k-1$\n",
        "4.   Regla de decisión, requiere determinar un número que separe la región donde no se rechaza $H_0$ de la región de rechazo , valor critico \\\\\n",
        "5.   Calcular el valor y tomar decisión\n",
        "\n"
      ],
      "metadata": {
        "id": "ABpL9rMTHmm4"
      }
    },
    {
      "cell_type": "markdown",
      "source": [
        "3. Realice ua prueba de bondad de ajuste con un nivel de significancia de 95%\n",
        "\n",
        "\n",
        "Hipótesis Nula ⟶ Los datos siguen una distribución uniforme. \\\\\n",
        "Hipótesis Alternativa ⟶ Los datos no siguen una distribución uniforme.\n",
        "\n",
        "\n"
      ],
      "metadata": {
        "id": "tdbUqbXPJBAP"
      }
    },
    {
      "cell_type": "markdown",
      "source": [
        "$$\n",
        "\\begin{array}{|c|c|c|c|c|}\n",
        "\\hline\n",
        "\\textbf{Categoría} & \\textbf{Frecuencia (f)} & \\textbf{Frecuencia Esperada (10)} & \\textbf{f - fe} & \\textbf{\\((f - fe)^2 / fe\\)} \\\\\n",
        "\\hline\n",
        "0 - 0.19 & 6 & 10 & -4 & 1.6 \\\\\n",
        "\\hline\n",
        "0.2 - 0.39 & 12 & 10 & 2 & 0.4 \\\\\n",
        "\\hline\n",
        "0.4 - 0.59 & 13 & 10 & 3 & 0.9 \\\\\n",
        "\\hline\n",
        "0.6 - 0.79 & 7 & 10 & -3 & 0.9 \\\\\n",
        "\\hline\n",
        "0.8 - 0.99 & 12 & 10 & 2 & 0.4 \\\\\n",
        "\\hline\n",
        "\\end{array}\n",
        "$$"
      ],
      "metadata": {
        "id": "KHA0s_UANofx"
      }
    },
    {
      "cell_type": "markdown",
      "source": [
        "$x^2=∑[\\frac{(f_0 -f_e)^2}{f_e }] = 4.2 $ \\\\\n",
        "grado de libertad $5-1=4$\n",
        "Nivel de significancia =0.05\n",
        "\n",
        "\n",
        "El valor critico es 9.48773\n",
        "*La hipotesis se cumple dado que $4.2 < 9.48773$"
      ],
      "metadata": {
        "id": "SdaBfd90N89s"
      }
    },
    {
      "cell_type": "markdown",
      "source": [
        "4.Determine si la siguiente lista de 100 números de 2 dígitos tiene una distribución\n",
        "uniforme con un nivel de aceptación de 90 %.\n",
        "\n",
        "$$\n",
        "\\begin{array}{|c|c|c|c|c|}\n",
        "\\hline\n",
        "\\textbf{Categoría} & \\textbf{Frecuencia (f)} & \\textbf{Frecuencia Esperada (10)} & \\textbf{f - fe} & \\textbf{\\((f - fe)^2 / fe\\)} \\\\\n",
        "\\hline\n",
        "0 - 0.01 & 20 & 20 & 0 & 0 \\\\\n",
        "\\hline\n",
        "0.21 - 0.4 & 19 & 20 & -1 & 0.05 \\\\\n",
        "\\hline\n",
        "0.41 - 0.6 & 21 & 20 & 1 & 0.05 \\\\\n",
        "\\hline\n",
        "0.61 - 0.8 & 22 & 20 & 2 & 0.2 \\\\\n",
        "\\hline\n",
        "0.81 - 1 & 18 & 20 & -2 & 0.2 \\\\\n",
        "\\hline\n",
        "\\end{array}\n",
        "$$\n",
        "\n",
        "$x^2=∑[\\frac{(f_0 -f_e)^2}{f_e }] = 0.5 $ \\\\\n",
        "grado de libertad $5-1=4$\n",
        "Nivel de significancia =0.1\n",
        "\n",
        "\n",
        "El valor critico es .77944\n",
        "*La hipotesis se cumple dado que $.5 < .77944$\n"
      ],
      "metadata": {
        "id": "JtxvGVwsOsQn"
      }
    },
    {
      "cell_type": "code",
      "source": [
        "import numpy as np\n",
        "from scipy.stats import chi2\n",
        "\n",
        "# Datos proporcionados\n",
        "datos = [\n",
        "    0.78, 0.98, 0.24, 0.73, 0.43, 0.16, 0.78, 0.47, 0.18, 0.55,\n",
        "    0.04, 0.29, 0.68, 0.77, 0.16, 0.03, 0.79, 0.22, 0.37, 0.80,\n",
        "    0.96, 0.26, 0.91, 0.55, 0.75, 0.55, 0.64, 0.39, 0.53, 0.45,\n",
        "    0.61, 0.14, 0.38, 0.12, 0.40, 0.74, 0.78, 0.98, 0.27, 0.60,\n",
        "    0.43, 0.67, 0.62, 0.32, 0.53, 0.54, 0.24, 0.29, 0.18, 0.08,\n",
        "    0.82, 0.94, 0.19, 0.98, 0.41, 1.00, 0.74, 0.92, 0.14, 0.43,\n",
        "    0.83, 0.88, 0.18, 0.21, 0.50, 0.13, 0.43, 0.69, 0.08, 0.12,\n",
        "    0.22, 0.50, 0.16, 0.11, 0.18, 0.89, 0.80, 0.42, 0.29, 0.87,\n",
        "    0.83, 0.79, 0.65, 0.28, 0.78, 0.49, 0.36, 0.86, 0.87, 0.64,\n",
        "    0.51, 0.07, 0.18, 0.94, 0.50, 0.22, 0.66, 0.91, 0.48, 0.24\n",
        "]\n",
        "\n",
        "# Definición de los intervalos para la distribución uniforme\n",
        "intervalos = [0, 0.2, 0.4, 0.6, 0.8, 1.0]\n",
        "\n",
        "# Conteo de frecuencias observadas en cada intervalo\n",
        "frecuencias_obs = [0] * (len(intervalos) - 1)\n",
        "for dato in datos:\n",
        "    for i in range(len(intervalos) - 1):\n",
        "        if intervalos[i] <= dato < intervalos[i + 1]:\n",
        "            frecuencias_obs[i] += 1\n",
        "            break\n",
        "\n",
        "# Número total de datos\n",
        "n = len(datos)\n",
        "\n",
        "# Frecuencia esperada bajo la hipótesis de distribución uniforme\n",
        "frec_esperada = n / len(intervalos)\n",
        "\n",
        "# Cálculo del estadístico de chi-cuadrado\n",
        "chi_cuadrado = sum((f_obs - frec_esperada)**2 / frec_esperada for f_obs in frecuencias_obs)\n",
        "\n",
        "# Grados de libertad\n",
        "grados_libertad = len(intervalos) - 1 - 1  # k - 1 - 1\n",
        "\n",
        "# Valor crítico de chi-cuadrado para un nivel de significancia de 90%\n",
        "valor_critico = chi2.ppf(0.90, grados_libertad)\n",
        "\n",
        "# Imprimir resultados\n",
        "print(f\"Chi-cuadrado calculado: {chi_cuadrado}\")\n",
        "print(f\"Valor crítico de chi-cuadrado: {valor_critico}\")\n",
        "\n",
        "# Decisión basada en el nivel de significancia\n",
        "if chi_cuadrado > valor_critico:\n",
        "    print(\"Se rechaza la hipótesis nula: los datos no siguen una distribución uniforme.\")\n",
        "else:\n",
        "    print(\"No se puede rechazar la hipótesis nula: los datos podrían seguir una distribución uniforme.\")"
      ],
      "metadata": {
        "id": "cFAXSlkFQv3s",
        "outputId": "9da072bc-daf5-4b2a-9d92-431ee3f69011",
        "colab": {
          "base_uri": "https://localhost:8080/"
        }
      },
      "execution_count": null,
      "outputs": [
        {
          "output_type": "stream",
          "name": "stdout",
          "text": [
            "Chi-cuadrado calculado: 3.353333333333331\n",
            "Valor crítico de chi-cuadrado: 7.779440339734858\n",
            "No se puede rechazar la hipótesis nula: los datos podrían seguir una distribución uniforme.\n"
          ]
        }
      ]
    },
    {
      "cell_type": "markdown",
      "source": [
        " Obtenga una muestra de números aleatorios usando el generador congruencial de\n",
        "ciclo de vida máxima del Ejercicio 1) y aplique a tal muestra una Prueba ^$χ^2$ para decidir si la muestra sigue una distribución uniforme o no. Comente el resultado \\\\\n",
        "\n",
        "d)  $X_{j+1}=({x_j}+121) mod (256)$ con $x_0=17$ con un ciclo de vida de 256"
      ],
      "metadata": {
        "id": "IxYYYcasQPlc"
      }
    },
    {
      "cell_type": "markdown",
      "source": [
        "EJERCICIO 2\n",
        "\n",
        "\n",
        "\n",
        "\\begin{array}{|c|c|}\n",
        "\\hline\n",
        "\\textbf{X\\_i} & \\textbf{S} \\\\\n",
        "\\hline\n",
        "0.048 & / \\\\\n",
        "\\hline\n",
        "0.591 & 1 \\\\\n",
        "\\hline\n",
        "0.478 & 0 \\\\\n",
        "\\hline\n",
        "0.166 & 0 \\\\\n",
        "\\hline\n",
        "0.932 & 1 \\\\\n",
        "\\hline\n",
        "0.926 & 0 \\\\\n",
        "\\hline\n",
        "0.007 & 0 \\\\\n",
        "\\hline\n",
        "0.551 & 1 \\\\\n",
        "\\hline\n",
        "0.362 & 0 \\\\\n",
        "\\hline\n",
        "0.533 & 1 \\\\\n",
        "\\hline\n",
        "0.368 & 0 \\\\\n",
        "\\hline\n",
        "0.437 & 1 \\\\\n",
        "\\hline\n",
        "0.178 & 0 \\\\\n",
        "\\hline\n",
        "0.411 & 1 \\\\\n",
        "\\hline\n",
        "0.545 & 1 \\\\\n",
        "\\hline\n",
        "0.787 & 1 \\\\\n",
        "\\hline\n",
        "0.594 & 0 \\\\\n",
        "\\hline\n",
        "0.086 & 0 \\\\\n",
        "\\hline\n",
        "0.951 & 1 \\\\\n",
        "\\hline\n",
        "0.772 & 0 \\\\\n",
        "\\hline\n",
        "0.298 & 0 \\\\\n",
        "\\hline\n",
        "0.199 & 0 \\\\\n",
        "\\hline\n",
        "0.157 & 0 \\\\\n",
        "\\hline\n",
        "0.401 & 1 \\\\\n",
        "\\hline\n",
        "0.631 & 1 \\\\\n",
        "\\hline\n",
        "\\end{array}\n",
        "\n",
        "\n",
        "\n"
      ],
      "metadata": {
        "id": "oaMXczDORtdd"
      }
    },
    {
      "cell_type": "markdown",
      "source": [
        "$𝜇_{15}=\\frac{2n-1}{3}=\\frac{2(25)-1}{3}=16.33$\n",
        "$σ_{15}^2=\\frac{16(25)-29}{90}=4.12$\n",
        "$σ_{15}=2.02$\n",
        "$Z_0=\\frac{15-16.33}{2.02}=-0.65$\n",
        "\n",
        "$α=0.05 ⟶ \\frac{α}{2}=0.025$\n",
        "Se acepta la hipotesis dado que -1.96< -0.65< 1.96"
      ],
      "metadata": {
        "id": "cy8EUBGWWsGd"
      }
    },
    {
      "cell_type": "markdown",
      "source": [
        "2.Escriba en una Notebook de Jupyter un programa en Python que implemente la Prueba de Corridas.\n",
        "\n",
        "Prueba de corrida"
      ],
      "metadata": {
        "id": "qXZqsZqpwL8K"
      }
    },
    {
      "cell_type": "markdown",
      "source": [
        "Es una prueba de independencia, evalua si una secuencia de datos sigue un patrón aleatorio o algún tipo de tendencia."
      ],
      "metadata": {
        "id": "ltoHvwY-wP40"
      }
    },
    {
      "cell_type": "markdown",
      "source": [
        "PASO 1. Determinar una secuencia de 1 si X_i<= X_i+1, en caso contrario colocar 0"
      ],
      "metadata": {
        "id": "ZihhE2fHwTjg"
      }
    },
    {
      "cell_type": "markdown",
      "source": [
        "PASO 2. Hallar en número de rachas o corridas observadas"
      ],
      "metadata": {
        "id": "ZKZ6akAYw74c"
      }
    },
    {
      "cell_type": "markdown",
      "source": [
        "PASO 3. Calcular el valor esperado y la varianza del número de corridas, asi como el estadistica Z_0"
      ],
      "metadata": {
        "id": "hoq3sbuzxBoC"
      }
    },
    {
      "cell_type": "markdown",
      "source": [
        "**M_co=(2n-1)/3 ;  sigma_co^2=(16n-29)/90  ; Z_0=(C_o-M_co)/sigmaCo**"
      ],
      "metadata": {
        "id": "LXOCfgYxxLE2"
      }
    },
    {
      "cell_type": "markdown",
      "source": [
        "El intervalo de aceptación es: -z_(alpha/2) <= Z_0 <= +z_(alpha/2)\n",
        "*Si este intervalo se cumple aceptamos la hipotesis*"
      ],
      "metadata": {
        "id": "h6IrziKnyszN"
      }
    },
    {
      "cell_type": "code",
      "source": [
        "import numpy as np\n",
        "import pandas as pd\n",
        "import math\n",
        "from scipy.stats import norm\n",
        "valores = [\n",
        "    0.048, 0.591, 0.478, 0.166, 0.932,\n",
        "    0.926, 0.007, 0.551, 0.362, 0.533,\n",
        "    0.368, 0.437, 0.178, 0.411, 0.545,\n",
        "    0.787, 0.594, 0.086, 0.951, 0.772,\n",
        "    0.298, 0.199, 0.157, 0.401, 0.631\n",
        "]\n",
        "\n",
        "n = len(valores)\n",
        "\n",
        "# secuencia de 1 y 0\n",
        "def determinar_secuencia(valores):\n",
        "    secuencia = [1 if valores[i] <= valores[i+1] else 0 for i in range(len(valores)-1)]\n",
        "    return secuencia\n",
        "\n",
        "#  número de rachas observadas\n",
        "def contar_rachas(secuencia):\n",
        "    num_rachas = 1 # Para que tome el primer número\n",
        "    for i in range(1, len(secuencia)):\n",
        "        if secuencia[i] != secuencia[i-1]:\n",
        "            num_rachas += 1\n",
        "    return num_rachas\n",
        "\n",
        "# valor esperado, varianza y  Z_0\n",
        "def calcular_estadistica(num_rachas, n):\n",
        "    M_co = (2*n - 1) / 3\n",
        "    sigma_co = (16*n - 29) / 90\n",
        "    sqrt_sigma = math.sqrt(sigma_co)\n",
        "    Z_0 = (num_rachas - M_co) / np.sqrt(sigma_co_sq)\n",
        "    return M_co, sigma_co_sq, Z_0\n",
        "\n",
        "\n",
        "secuencia = determinar_secuencia(valores)\n",
        "\n",
        "rachas = contar_rachas(secuencia)\n",
        "\n",
        "M_co, sigma_co_sq, Z_0 = calcular_estadistica(rachas, n)\n",
        "\n",
        "# Tabular resultados\n",
        "df = pd.DataFrame({\n",
        "    'Iteración': np.arange(1, n),\n",
        "    'Valor': valores[:-1],  # Excluyendo el último valor para la secuencia\n",
        "    'Secuencia': secuencia,\n",
        "})\n",
        "print(\"Tabla de Iteraciones:\")\n",
        "print(df)\n",
        "\n",
        "# Resultados\n",
        "print(\"\\nNúmero de rachas:\", rachas)\n",
        "print(\"Valor esperado  (M_co):\", M_co)\n",
        "print(\"Varianza  (sigma_co^2):\", sigma_co_sq)\n",
        "print(\"Desviación estandar: \", sqrt_sigma)\n",
        "print(\" Z_0:\", Z_0)\n",
        "\n",
        "# Declarar nivel de aceptación\n",
        "alpha = 0.05 # Nivel de significancia\n",
        "z_alpha_2 = norm.ppf(1 - alpha/2)\n",
        "N_aceptacion = (-z_alpha_2, z_alpha_2)\n",
        "print(\"Nivel de aceptación:\", N_aceptacion)\n",
        "\n",
        "# Aceptar o rechazar hipotesis nula\n",
        "if intervalo_aceptacion[0] <= Z_0 <= intervalo_aceptacion[1]:\n",
        "    print(\"Se acepta la hipótesis nula\")\n",
        "else:\n",
        "    print(\"Se rechaza la hipótesis nula\")"
      ],
      "metadata": {
        "colab": {
          "base_uri": "https://localhost:8080/"
        },
        "id": "PcKFFbMTzu3_",
        "outputId": "5fa9e646-380f-4884-ca04-4be7f20f2264"
      },
      "execution_count": null,
      "outputs": [
        {
          "output_type": "stream",
          "name": "stdout",
          "text": [
            "Tabla de Iteraciones:\n",
            "    Iteración  Valor  Secuencia\n",
            "0           1  0.048          1\n",
            "1           2  0.591          0\n",
            "2           3  0.478          0\n",
            "3           4  0.166          1\n",
            "4           5  0.932          0\n",
            "5           6  0.926          0\n",
            "6           7  0.007          1\n",
            "7           8  0.551          0\n",
            "8           9  0.362          1\n",
            "9          10  0.533          0\n",
            "10         11  0.368          1\n",
            "11         12  0.437          0\n",
            "12         13  0.178          1\n",
            "13         14  0.411          1\n",
            "14         15  0.545          1\n",
            "15         16  0.787          0\n",
            "16         17  0.594          0\n",
            "17         18  0.086          1\n",
            "18         19  0.951          0\n",
            "19         20  0.772          0\n",
            "20         21  0.298          0\n",
            "21         22  0.199          0\n",
            "22         23  0.157          1\n",
            "23         24  0.401          1\n",
            "\n",
            "Número de rachas: 15\n",
            "Valor esperado  (M_co): 16.333333333333332\n",
            "Varianza  (sigma_co^2): 4.122222222222222\n",
            "Desviación estandar:  2.030325644378808\n",
            " Z_0: -0.6567091033031179\n",
            "Nivel de aceptación: (-1.959963984540054, 1.959963984540054)\n",
            "Se acepta la hipótesis nula\n"
          ]
        }
      ]
    },
    {
      "cell_type": "markdown",
      "source": [
        "En conclusión la prueba de corridas proporciona información sobre la aleatoriedad de una secuencia de datos y puede ayudar a tomar decisiones sobre su validez y utilidad para análisis posteriores."
      ],
      "metadata": {
        "id": "GH7bxP3N56Tb"
      }
    },
    {
      "cell_type": "markdown",
      "source": [],
      "metadata": {
        "id": "lXpNo-vGUD8Z"
      }
    }
  ]
}