{
  "nbformat": 4,
  "nbformat_minor": 0,
  "metadata": {
    "colab": {
      "provenance": [],
      "authorship_tag": "ABX9TyO+rL0RgraYguP2Wa9xur95",
      "include_colab_link": true
    },
    "kernelspec": {
      "name": "python3",
      "display_name": "Python 3"
    },
    "language_info": {
      "name": "python"
    }
  },
  "cells": [
    {
      "cell_type": "markdown",
      "metadata": {
        "id": "view-in-github",
        "colab_type": "text"
      },
      "source": [
        "<a href=\"https://colab.research.google.com/github/ErandySV/Simulaci-n-I/blob/main/Cuadrado_medio.ipynb\" target=\"_parent\"><img src=\"https://colab.research.google.com/assets/colab-badge.svg\" alt=\"Open In Colab\"/></a>"
      ]
    },
    {
      "cell_type": "markdown",
      "source": [
        "Generar un número aleatorio con el método de cuadrado medio"
      ],
      "metadata": {
        "id": "HPxDFL5NGPxn"
      }
    },
    {
      "cell_type": "markdown",
      "source": [
        "El método cuadrado medio es un algoritmo simple para generar secuencias pseudoaleatorias utilizando operaciones de cuadrado y extracción de dígitos centrales"
      ],
      "metadata": {
        "id": "F4TGX0KwGRZn"
      }
    },
    {
      "cell_type": "markdown",
      "source": [
        "Los pasos son los siguientes:"
      ],
      "metadata": {
        "id": "joWHSdP7kMdH"
      }
    },
    {
      "cell_type": "markdown",
      "source": [
        "1. Asignar un número de 4 dígitos"
      ],
      "metadata": {
        "id": "fGmyIoRUkQa2"
      }
    },
    {
      "cell_type": "markdown",
      "source": [
        "2. Elevar el número al cuadrado"
      ],
      "metadata": {
        "id": "IU1Rk4LSkUr1"
      }
    },
    {
      "cell_type": "markdown",
      "source": [
        "3. Tomar el cuadrado medio"
      ],
      "metadata": {
        "id": "I_KlwtvSkXxu"
      }
    },
    {
      "cell_type": "markdown",
      "source": [
        "5. Repetir pasos"
      ],
      "metadata": {
        "id": "y82yXTHykamT"
      }
    },
    {
      "cell_type": "code",
      "source": [
        "import math\n",
        "x_0 = 2124\n",
        "x_cuadrado = x_0**2\n",
        "print(\"El cuadrado de: \" ,x_0, \"es\", x_cuadrado)"
      ],
      "metadata": {
        "colab": {
          "base_uri": "https://localhost:8080/"
        },
        "id": "LQ3Z_IygGfJF",
        "outputId": "52902d2c-45a1-4cd7-a695-2d0acdb916d7"
      },
      "execution_count": 70,
      "outputs": [
        {
          "output_type": "stream",
          "name": "stdout",
          "text": [
            "El cuadrado de:  2124 es 4511376\n"
          ]
        }
      ]
    },
    {
      "cell_type": "markdown",
      "source": [
        "El número obtenido es impar ,debemos añadir un 0 inicialmente, el primer número a tomar debe ser 5113"
      ],
      "metadata": {
        "id": "zjFt2dtyky69"
      }
    },
    {
      "cell_type": "code",
      "source": [
        "x_0 = 2124\n",
        "# Asignar número de iteraciones\n",
        "n = 5\n",
        "for i in range(n):\n",
        "    x_c = x_0 ** 2\n",
        "\n",
        "    # Checar que la longitud sea par\n",
        "    if len(str(x_c)) % 2 != 0:\n",
        "        x_c = int(\"0\" + str(x_c))\n",
        "\n",
        "    l = len(str(x_c))\n",
        "    inicio = (l // 2) - 2\n",
        "    fin = inicio + 4\n",
        "    x1 = int(str(x_c)[inicio:fin])\n",
        "\n",
        "    # Actualizar la semilla\n",
        "    x_0 = x1\n",
        "    print(x_0)"
      ],
      "metadata": {
        "colab": {
          "base_uri": "https://localhost:8080/"
        },
        "id": "12uoDgyWqoaf",
        "outputId": "7a239f9f-dbea-45a2-bb01-e86ea6d74f6a"
      },
      "execution_count": 72,
      "outputs": [
        {
          "output_type": "stream",
          "name": "stdout",
          "text": [
            "5113\n",
            "1427\n",
            "363\n",
            "3176\n",
            "869\n"
          ]
        }
      ]
    },
    {
      "cell_type": "markdown",
      "source": [
        "Conclusión"
      ],
      "metadata": {
        "id": "CRWoiSqDrI5p"
      }
    },
    {
      "cell_type": "markdown",
      "source": [
        "El método cuadrado medio es fácil de implementar y entender, pero tiene ciertas desventajas como son, que rápidamente  se ciclan, además de que se degenera si la semilla contiene ceros por lo cual no se considera adecuado para aplicaciones que requieren secuencias pseudoaleatorias de alta calidad y larga longitud."
      ],
      "metadata": {
        "id": "EEzRXnD7rMNT"
      }
    }
  ]
}